{
 "cells": [
  {
   "cell_type": "code",
   "id": "initial_id",
   "metadata": {
    "collapsed": true,
    "jupyter": {
     "is_executing": true
    }
   },
   "source": [
    "# Importing all the necessary libraries and modules\n",
    "from qiskit import QuantumCircuit, QuantumRegister, ClassicalRegister, transpile\n",
    "from qiskit_aer import AerSimulator, Aer\n",
    "from qiskit.quantum_info import Statevector, Operator\n",
    "from qiskit.visualization import plot_histogram\n",
    "from qiskit_ibm_runtime import QiskitRuntimeService\n",
    "from qiskit.transpiler import generate_preset_pass_manager\n",
    "from qiskit_ibm_runtime import Sampler, EstimatorOptions\n",
    "from qiskit_ibm_runtime import EstimatorV2 as Estimator\n",
    "from qiskit_aer.noise import NoiseModel, depolarizing_error\n",
    "import matplotlib.pyplot as plt\n",
    "import pickle\n",
    "import numpy as np"
   ],
   "outputs": [],
   "execution_count": null
  },
  {
   "cell_type": "markdown",
   "id": "5626a805",
   "metadata": {},
   "source": [
    "\n",
    "1. Create the circuit for superdense coding (using 2 qubits and 2 classical bits) and check its validity using Statevector for all the 4 possible cases."
   ]
  },
  {
   "cell_type": "code",
   "execution_count": 2,
   "id": "9892b189a4ad1492",
   "metadata": {
    "ExecuteTime": {
     "end_time": "2025-06-16T14:02:42.011609Z",
     "start_time": "2025-06-16T14:02:42.006367Z"
    }
   },
   "outputs": [],
   "source": [
    "def circuiting(input):\n",
    "    \"\"\"Creates the superdense coding circuit for a given 2-bit classical message\"\"\"\n",
    "    \n",
    "    # Creating a 2-qubit circuit and 2 classical bits\n",
    "    q = QuantumRegister(2, 'q')\n",
    "    c = ClassicalRegister(2, 'c')\n",
    "    circuit = QuantumCircuit(q, c)\n",
    "\n",
    "    circuit.h(0)           \n",
    "    circuit.cx(0, 1)       \n",
    "\n",
    "    if input == '00':\n",
    "        pass  \n",
    "    elif input == '01':\n",
    "        circuit.z(0)\n",
    "    elif input == '10':\n",
    "        circuit.x(0)\n",
    "    elif input == '11':\n",
    "        circuit.z(0)\n",
    "        circuit.x(0)\n",
    "\n",
    "    circuit.cx(0, 1)\n",
    "    circuit.h(0)\n",
    "\n",
    "    circuit.measure(0, 0)\n",
    "    circuit.measure(1, 1)\n",
    "\n",
    "    return circuit"
   ]
  },
  {
   "cell_type": "code",
   "execution_count": 3,
   "id": "adf2823bc039fee3",
   "metadata": {
    "ExecuteTime": {
     "end_time": "2025-06-16T14:08:42.285063Z",
     "start_time": "2025-06-16T14:08:42.274449Z"
    }
   },
   "outputs": [],
   "source": [
    "bitstrings = ['00', '01', '10', '11']"
   ]
  },
  {
   "cell_type": "code",
   "execution_count": 4,
   "id": "1cc2a73a6d491d0",
   "metadata": {
    "ExecuteTime": {
     "end_time": "2025-06-16T14:08:47.114575Z",
     "start_time": "2025-06-16T14:08:46.941860Z"
    }
   },
   "outputs": [
    {
     "name": "stdout",
     "output_type": "stream",
     "text": [
      "Input: 00 → Output: 00 \n",
      "Input: 01 → Output: 01 \n",
      "Input: 10 → Output: 10 \n",
      "Input: 11 → Output: 11 \n"
     ]
    }
   ],
   "source": [
    "from qiskit import transpile\n",
    "\n",
    "simulator = AerSimulator()\n",
    "\n",
    "for bits in bitstrings:\n",
    "    circuit_no_measure = circuiting(bits).remove_final_measurements(inplace=False)\n",
    "    \n",
    "    # Get final statevector and find the dominant state\n",
    "    final_state = Statevector.from_instruction(circuit_no_measure)\n",
    "    dominant_state = np.argmax(np.abs(final_state.data)**2)\n",
    "    binary_representation = format(dominant_state, '02b') # Find the correspnding binary form of the array position of highest probability\n",
    "\n",
    "    print(f\"Input: {bits} → Output: {binary_representation} \")\n"
   ]
  },
  {
   "cell_type": "markdown",
   "id": "2deb5eee",
   "metadata": {},
   "source": [
    "\n",
    "2. Run it on AerSimulator (no noise) and Real Quantum Hardware (1024 shots for both) for transmitting the classical bits 11 and find how many times do you send correct message by plotting histogram."
   ]
  },
  {
   "cell_type": "code",
   "execution_count": 5,
   "id": "7d7e74b898a5d1",
   "metadata": {
    "ExecuteTime": {
     "end_time": "2025-06-16T14:50:32.331025Z",
     "start_time": "2025-06-16T14:50:32.273528Z"
    }
   },
   "outputs": [
    {
     "name": "stdout",
     "output_type": "stream",
     "text": [
      "AerSimulator Counts: {'11': 1024}\n"
     ]
    },
    {
     "data": {
      "image/png": "[encoded data removed]",
      "text/plain": [
       "<Figure size 640x480 with 1 Axes>"
      ]
     },
     "execution_count": 5,
     "metadata": {},
     "output_type": "execute_result"
    }
   ],
   "source": [
    "sim = AerSimulator()\n",
    "qc = circuiting('11')\n",
    "tqc = transpile(qc, sim)\n",
    "\n",
    "job_sim = sim.run(tqc, shots=1024)\n",
    "result_sim = job_sim.result()\n",
    "counts_sim = result_sim.get_counts()\n",
    "\n",
    "print(\"AerSimulator Counts:\", counts_sim)\n",
    "plot_histogram(counts_sim)\n",
    "\n",
    "# Surprise surprise, its a single line :/"
   ]
  },
  {
   "cell_type": "code",
   "execution_count": 6,
   "id": "ebdd247e73f040e1",
   "metadata": {
    "ExecuteTime": {
     "end_time": "2025-06-16T16:30:11.548975Z",
     "start_time": "2025-06-16T16:30:11.009804Z"
    }
   },
   "outputs": [
    {
     "name": "stderr",
     "output_type": "stream",
     "text": [
      "/var/folders/10/n59cq8_939x8yv9swss8dkp00000gn/T/ipykernel_93039/2367327277.py:2: DeprecationWarning: The \"ibm_quantum\" channel option is deprecated and will be sunset on 1 July. After this date, \"ibm_cloud\", \"ibm_quantum_platform\", and \"local\" will be the only valid channels. Open Plan users should migrate now.  All other users should review the migration guide (https://quantum.cloud.ibm.com/docs/migration-guides/classic-iqp-to-cloud-iqp)to learn when to migrate.\n",
      "  service = QiskitRuntimeService(channel=\"ibm_quantum\", token=token)\n"
     ]
    },
    {
     "name": "stdout",
     "output_type": "stream",
     "text": [
      "Running on: ibm_sherbrooke\n"
     ]
    }
   ],
   "source": [
    "token = '7eac5e4e702e3146e4043879aff4cb905f3bb2d4372d7358eb8bead26fb84691cc20e010b7f834e39645ac12763b6915f066db4a1a28992da39356a5b768ea8b'\n",
    "service = QiskitRuntimeService(channel=\"ibm_quantum\", token=token)\n",
    "backend = service.least_busy(operational=True, min_num_qubits=5)\n",
    "print(\"Running on:\", backend.name)"
   ]
  },
  {
   "cell_type": "code",
   "execution_count": 10,
   "id": "fe048ab5",
   "metadata": {},
   "outputs": [
    {
     "name": "stderr",
     "output_type": "stream",
     "text": [
      "/opt/miniconda3/envs/qiskit/lib/python3.13/site-packages/qiskit_ibm_runtime/qiskit_runtime_service.py:1129: UserWarning: IBM Quantum Platform is moving, and this version will be sunset on July 1. To get started on the new platform, read the migration guide at https://docs.quantum.ibm.com/migration-guides/classic-iqp-to-cloud-iqp\n",
      "  warnings.warn(warning_message)\n"
     ]
    },
    {
     "data": {
      "image/png": "[encoded data removed]",
      "text/plain": [
       "<Figure size 640x480 with 1 Axes>"
      ]
     },
     "execution_count": 10,
     "metadata": {},
     "output_type": "execute_result"
    }
   ],
   "source": [
    "ttqc = transpile(qc,backend, optimization_level=2)\n",
    "sampler = Sampler(mode=backend)\n",
    "job = sampler.run([ttqc],shots=1024)  \n",
    "result = job.result()\n",
    "pub_result = result[0]\n",
    "counts = pub_result.data.c.get_counts()\n",
    "plot_histogram(counts)"
   ]
  },
  {
   "cell_type": "code",
   "execution_count": 11,
   "id": "b7835cde",
   "metadata": {},
   "outputs": [],
   "source": [
    "def word_to_binary(word):\n",
    "    binary = ''.join(format(ord(c), '08b') for c in word)\n",
    "    return binary \n",
    "\n",
    "\n",
    "def binary_to_word(binary_str):\n",
    "    # Pad with zeros if length not multiple of 8\n",
    "    padded = binary_str.ljust((len(binary_str) + 7) // 8 * 8, '0')\n",
    "    return ''.join(chr(int(padded[i:i+8], 2)) for i in range(0, len(padded), 8))"
   ]
  },
  {
   "cell_type": "code",
   "execution_count": 12,
   "id": "3e9c8037",
   "metadata": {},
   "outputs": [
    {
     "name": "stdout",
     "output_type": "stream",
     "text": [
      "Binary representation of 'Gautam': 010001110110000101110101011101000110000101101101\n",
      "Processing bits: 01\n",
      "Decoded bits: 01\n",
      "Processing bits: 00\n",
      "Decoded bits: 00\n",
      "Processing bits: 01\n",
      "Decoded bits: 01\n",
      "Processing bits: 11\n",
      "Decoded bits: 11\n",
      "Processing bits: 01\n",
      "Decoded bits: 01\n",
      "Processing bits: 10\n",
      "Decoded bits: 10\n",
      "Processing bits: 00\n",
      "Decoded bits: 00\n",
      "Processing bits: 01\n",
      "Decoded bits: 01\n",
      "Processing bits: 01\n",
      "Decoded bits: 01\n",
      "Processing bits: 11\n",
      "Decoded bits: 11\n",
      "Processing bits: 01\n",
      "Decoded bits: 01\n",
      "Processing bits: 01\n",
      "Decoded bits: 01\n",
      "Processing bits: 01\n",
      "Decoded bits: 01\n",
      "Processing bits: 11\n",
      "Decoded bits: 11\n",
      "Processing bits: 01\n",
      "Decoded bits: 01\n",
      "Processing bits: 00\n",
      "Decoded bits: 00\n",
      "Processing bits: 01\n",
      "Decoded bits: 01\n",
      "Processing bits: 10\n",
      "Decoded bits: 10\n",
      "Processing bits: 00\n",
      "Decoded bits: 00\n",
      "Processing bits: 01\n",
      "Decoded bits: 01\n",
      "Processing bits: 01\n",
      "Decoded bits: 01\n",
      "Processing bits: 10\n",
      "Decoded bits: 10\n",
      "Processing bits: 11\n",
      "Decoded bits: 11\n",
      "Processing bits: 01\n",
      "Decoded bits: 01\n"
     ]
    }
   ],
   "source": [
    "\n",
    "code = \"Gautam\"\n",
    "binary_code = word_to_binary(code)\n",
    "print(f\"Binary representation of '{code}': {binary_code}\")\n",
    "\n",
    "backend = AerSimulator()\n",
    "decoded_bits = \"\"\n",
    "\n",
    "\n",
    "for i in range(0, len(binary_code), 2):\n",
    "    bits = binary_code[i:i+2]\n",
    "    print(f\"Processing bits: {bits}\")\n",
    "    qc = circuiting(bits)\n",
    "\n",
    "    tqc = transpile(qc, backend)\n",
    "\n",
    "    job = backend.run(tqc, shots=1024)\n",
    "    result = job.result()\n",
    "\n",
    "    counts = result.get_counts()\n",
    "    received = max(counts, key=counts.get)\n",
    "    decoded_bit = received \n",
    "\n",
    "    print(f\"Decoded bits: {decoded_bit}\")\n",
    "    decoded_bits += decoded_bit\n",
    "\n",
    "\n"
   ]
  },
  {
   "cell_type": "code",
   "execution_count": 13,
   "id": "895fb3d9",
   "metadata": {},
   "outputs": [
    {
     "name": "stdout",
     "output_type": "stream",
     "text": [
      "Decoded bits: 010001110110000101110101011101000110000101101101\n",
      "Decoded word from binary '010001110110000101110101011101000110000101101101': Gautam\n"
     ]
    }
   ],
   "source": [
    "print(f\"Decoded bits: {decoded_bits}\")\n",
    "decoded_word = binary_to_word(decoded_bits)\n",
    "print(f\"Decoded word from binary '{binary_code}': {decoded_word}\")\n"
   ]
  },
  {
   "cell_type": "code",
   "execution_count": 14,
   "id": "9f490f21",
   "metadata": {},
   "outputs": [],
   "source": [
    "backend = service.backend(\"ibm_sherbrooke\")"
   ]
  },
  {
   "cell_type": "code",
   "execution_count": 16,
   "id": "889f48e4",
   "metadata": {},
   "outputs": [
    {
     "name": "stdout",
     "output_type": "stream",
     "text": [
      "ibm_sherbrooke\n",
      "Processing bits: 01\n",
      "{'01': 1017, '00': 6, '11': 1}\n",
      "Decoded bits: 01\n",
      "Processing bits: 00\n",
      "{'00': 1021, '01': 2, '10': 1}\n",
      "Decoded bits: 00\n",
      "Processing bits: 01\n",
      "{'01': 1011, '00': 11, '11': 2}\n",
      "Decoded bits: 01\n",
      "Processing bits: 11\n"
     ]
    },
    {
     "ename": "KeyboardInterrupt",
     "evalue": "",
     "output_type": "error",
     "traceback": [
      "\u001B[31m---------------------------------------------------------------------------\u001B[39m",
      "\u001B[31mKeyboardInterrupt\u001B[39m                         Traceback (most recent call last)",
      "\u001B[36mCell\u001B[39m\u001B[36m \u001B[39m\u001B[32mIn[16]\u001B[39m\u001B[32m, line 13\u001B[39m\n\u001B[32m     10\u001B[39m tqc = transpile(qc, backend)\n\u001B[32m     12\u001B[39m job = sampler.run([tqc], shots=\u001B[32m1024\u001B[39m)  \n\u001B[32m---> \u001B[39m\u001B[32m13\u001B[39m result = \u001B[43mjob\u001B[49m\u001B[43m.\u001B[49m\u001B[43mresult\u001B[49m\u001B[43m(\u001B[49m\u001B[43m)\u001B[49m\n\u001B[32m     15\u001B[39m pub_result = result[\u001B[32m0\u001B[39m]\n\u001B[32m     16\u001B[39m \u001B[38;5;28mprint\u001B[39m(pub_result.data.c.get_counts())\n",
      "\u001B[36mFile \u001B[39m\u001B[32m/opt/miniconda3/envs/qiskit/lib/python3.13/site-packages/qiskit_ibm_runtime/runtime_job_v2.py:133\u001B[39m, in \u001B[36mRuntimeJobV2.result\u001B[39m\u001B[34m(self, timeout, decoder)\u001B[39m\n\u001B[32m    118\u001B[39m \u001B[38;5;250m\u001B[39m\u001B[33;03m\"\"\"Return the results of the job.\u001B[39;00m\n\u001B[32m    119\u001B[39m \n\u001B[32m    120\u001B[39m \u001B[33;03mArgs:\u001B[39;00m\n\u001B[32m   (...)\u001B[39m\u001B[32m    130\u001B[39m \u001B[33;03m    RuntimeInvalidStateError: If the job was cancelled, and attempting to retrieve result.\u001B[39;00m\n\u001B[32m    131\u001B[39m \u001B[33;03m\"\"\"\u001B[39;00m\n\u001B[32m    132\u001B[39m _decoder = decoder \u001B[38;5;129;01mor\u001B[39;00m \u001B[38;5;28mself\u001B[39m._final_result_decoder\n\u001B[32m--> \u001B[39m\u001B[32m133\u001B[39m \u001B[38;5;28;43mself\u001B[39;49m\u001B[43m.\u001B[49m\u001B[43mwait_for_final_state\u001B[49m\u001B[43m(\u001B[49m\u001B[43mtimeout\u001B[49m\u001B[43m=\u001B[49m\u001B[43mtimeout\u001B[49m\u001B[43m)\u001B[49m\n\u001B[32m    134\u001B[39m \u001B[38;5;28;01mif\u001B[39;00m \u001B[38;5;28mself\u001B[39m._status == \u001B[33m\"\u001B[39m\u001B[33mERROR\u001B[39m\u001B[33m\"\u001B[39m:\n\u001B[32m    135\u001B[39m     error_message = \u001B[38;5;28mself\u001B[39m._reason \u001B[38;5;28;01mif\u001B[39;00m \u001B[38;5;28mself\u001B[39m._reason \u001B[38;5;28;01melse\u001B[39;00m \u001B[38;5;28mself\u001B[39m._error_message\n",
      "\u001B[36mFile \u001B[39m\u001B[32m/opt/miniconda3/envs/qiskit/lib/python3.13/site-packages/qiskit_ibm_runtime/runtime_job_v2.py:252\u001B[39m, in \u001B[36mRuntimeJobV2.wait_for_final_state\u001B[39m\u001B[34m(self, timeout)\u001B[39m\n\u001B[32m    248\u001B[39m             \u001B[38;5;28;01mraise\u001B[39;00m RuntimeJobTimeoutError(\n\u001B[32m    249\u001B[39m                 \u001B[33mf\u001B[39m\u001B[33m\"\u001B[39m\u001B[33mTimed out waiting for job to complete after \u001B[39m\u001B[38;5;132;01m{\u001B[39;00mtimeout\u001B[38;5;132;01m}\u001B[39;00m\u001B[33m secs.\u001B[39m\u001B[33m\"\u001B[39m\n\u001B[32m    250\u001B[39m             )\n\u001B[32m    251\u001B[39m         time.sleep(\u001B[32m0.1\u001B[39m)\n\u001B[32m--> \u001B[39m\u001B[32m252\u001B[39m         status = \u001B[38;5;28;43mself\u001B[39;49m\u001B[43m.\u001B[49m\u001B[43mstatus\u001B[49m\u001B[43m(\u001B[49m\u001B[43m)\u001B[49m\n\u001B[32m    253\u001B[39m \u001B[38;5;28;01mexcept\u001B[39;00m futures.TimeoutError:\n\u001B[32m    254\u001B[39m     \u001B[38;5;28;01mraise\u001B[39;00m RuntimeJobTimeoutError(\n\u001B[32m    255\u001B[39m         \u001B[33mf\u001B[39m\u001B[33m\"\u001B[39m\u001B[33mTimed out waiting for job to complete after \u001B[39m\u001B[38;5;132;01m{\u001B[39;00mtimeout\u001B[38;5;132;01m}\u001B[39;00m\u001B[33m secs.\u001B[39m\u001B[33m\"\u001B[39m\n\u001B[32m    256\u001B[39m     )\n",
      "\u001B[36mFile \u001B[39m\u001B[32m/opt/miniconda3/envs/qiskit/lib/python3.13/site-packages/qiskit_ibm_runtime/runtime_job_v2.py:169\u001B[39m, in \u001B[36mRuntimeJobV2.status\u001B[39m\u001B[34m(self)\u001B[39m\n\u001B[32m    163\u001B[39m \u001B[38;5;28;01mdef\u001B[39;00m\u001B[38;5;250m \u001B[39m\u001B[34mstatus\u001B[39m(\u001B[38;5;28mself\u001B[39m) -> JobStatus:\n\u001B[32m    164\u001B[39m \u001B[38;5;250m    \u001B[39m\u001B[33;03m\"\"\"Return the status of the job.\u001B[39;00m\n\u001B[32m    165\u001B[39m \n\u001B[32m    166\u001B[39m \u001B[33;03m    Returns:\u001B[39;00m\n\u001B[32m    167\u001B[39m \u001B[33;03m        Status of this job.\u001B[39;00m\n\u001B[32m    168\u001B[39m \u001B[33;03m    \"\"\"\u001B[39;00m\n\u001B[32m--> \u001B[39m\u001B[32m169\u001B[39m     \u001B[38;5;28;43mself\u001B[39;49m\u001B[43m.\u001B[49m\u001B[43m_set_status_and_error_message\u001B[49m\u001B[43m(\u001B[49m\u001B[43m)\u001B[49m\n\u001B[32m    170\u001B[39m     \u001B[38;5;28;01mreturn\u001B[39;00m \u001B[38;5;28mself\u001B[39m._status\n",
      "\u001B[36mFile \u001B[39m\u001B[32m/opt/miniconda3/envs/qiskit/lib/python3.13/site-packages/qiskit_ibm_runtime/base_runtime_job.py:212\u001B[39m, in \u001B[36mBaseRuntimeJob._set_status_and_error_message\u001B[39m\u001B[34m(self)\u001B[39m\n\u001B[32m    210\u001B[39m \u001B[38;5;250m\u001B[39m\u001B[33;03m\"\"\"Fetch and set status and error message.\"\"\"\u001B[39;00m\n\u001B[32m    211\u001B[39m \u001B[38;5;28;01mif\u001B[39;00m \u001B[38;5;28mself\u001B[39m._status \u001B[38;5;129;01mnot\u001B[39;00m \u001B[38;5;129;01min\u001B[39;00m \u001B[38;5;28mself\u001B[39m.JOB_FINAL_STATES:\n\u001B[32m--> \u001B[39m\u001B[32m212\u001B[39m     response = \u001B[38;5;28;43mself\u001B[39;49m\u001B[43m.\u001B[49m\u001B[43m_api_client\u001B[49m\u001B[43m.\u001B[49m\u001B[43mjob_get\u001B[49m\u001B[43m(\u001B[49m\u001B[43mjob_id\u001B[49m\u001B[43m=\u001B[49m\u001B[38;5;28;43mself\u001B[39;49m\u001B[43m.\u001B[49m\u001B[43mjob_id\u001B[49m\u001B[43m(\u001B[49m\u001B[43m)\u001B[49m\u001B[43m)\u001B[49m\n\u001B[32m    213\u001B[39m     \u001B[38;5;28mself\u001B[39m._set_status(response)\n\u001B[32m    214\u001B[39m     \u001B[38;5;28mself\u001B[39m._set_error_message(response)\n",
      "\u001B[36mFile \u001B[39m\u001B[32m/opt/miniconda3/envs/qiskit/lib/python3.13/site-packages/qiskit_ibm_runtime/api/clients/runtime.py:113\u001B[39m, in \u001B[36mRuntimeClient.job_get\u001B[39m\u001B[34m(self, job_id, exclude_params)\u001B[39m\n\u001B[32m    104\u001B[39m \u001B[38;5;28;01mdef\u001B[39;00m\u001B[38;5;250m \u001B[39m\u001B[34mjob_get\u001B[39m(\u001B[38;5;28mself\u001B[39m, job_id: \u001B[38;5;28mstr\u001B[39m, exclude_params: \u001B[38;5;28mbool\u001B[39m = \u001B[38;5;28;01mTrue\u001B[39;00m) -> Dict:\n\u001B[32m    105\u001B[39m \u001B[38;5;250m    \u001B[39m\u001B[33;03m\"\"\"Get job data.\u001B[39;00m\n\u001B[32m    106\u001B[39m \n\u001B[32m    107\u001B[39m \u001B[33;03m    Args:\u001B[39;00m\n\u001B[32m   (...)\u001B[39m\u001B[32m    111\u001B[39m \u001B[33;03m        JSON response.\u001B[39;00m\n\u001B[32m    112\u001B[39m \u001B[33;03m    \"\"\"\u001B[39;00m\n\u001B[32m--> \u001B[39m\u001B[32m113\u001B[39m     response = \u001B[38;5;28;43mself\u001B[39;49m\u001B[43m.\u001B[49m\u001B[43m_api\u001B[49m\u001B[43m.\u001B[49m\u001B[43mprogram_job\u001B[49m\u001B[43m(\u001B[49m\u001B[43mjob_id\u001B[49m\u001B[43m)\u001B[49m\u001B[43m.\u001B[49m\u001B[43mget\u001B[49m\u001B[43m(\u001B[49m\u001B[43mexclude_params\u001B[49m\u001B[43m=\u001B[49m\u001B[43mexclude_params\u001B[49m\u001B[43m)\u001B[49m\n\u001B[32m    114\u001B[39m     logger.debug(\u001B[33m\"\u001B[39m\u001B[33mRuntime job get response: \u001B[39m\u001B[38;5;132;01m%s\u001B[39;00m\u001B[33m\"\u001B[39m, response)\n\u001B[32m    115\u001B[39m     \u001B[38;5;28;01mreturn\u001B[39;00m response\n",
      "\u001B[36mFile \u001B[39m\u001B[32m/opt/miniconda3/envs/qiskit/lib/python3.13/site-packages/qiskit_ibm_runtime/api/rest/program_job.py:59\u001B[39m, in \u001B[36mProgramJob.get\u001B[39m\u001B[34m(self, exclude_params)\u001B[39m\n\u001B[32m     56\u001B[39m \u001B[38;5;28;01mif\u001B[39;00m exclude_params:\n\u001B[32m     57\u001B[39m     payload[\u001B[33m\"\u001B[39m\u001B[33mexclude_params\u001B[39m\u001B[33m\"\u001B[39m] = \u001B[33m\"\u001B[39m\u001B[33mtrue\u001B[39m\u001B[33m\"\u001B[39m\n\u001B[32m---> \u001B[39m\u001B[32m59\u001B[39m \u001B[38;5;28;01mreturn\u001B[39;00m \u001B[38;5;28;43mself\u001B[39;49m\u001B[43m.\u001B[49m\u001B[43msession\u001B[49m\u001B[43m.\u001B[49m\u001B[43mget\u001B[49m\u001B[43m(\u001B[49m\n\u001B[32m     60\u001B[39m \u001B[43m    \u001B[49m\u001B[38;5;28;43mself\u001B[39;49m\u001B[43m.\u001B[49m\u001B[43mget_url\u001B[49m\u001B[43m(\u001B[49m\u001B[33;43m\"\u001B[39;49m\u001B[33;43mself\u001B[39;49m\u001B[33;43m\"\u001B[39;49m\u001B[43m)\u001B[49m\u001B[43m,\u001B[49m\u001B[43m \u001B[49m\u001B[43mparams\u001B[49m\u001B[43m=\u001B[49m\u001B[43mpayload\u001B[49m\u001B[43m,\u001B[49m\u001B[43m \u001B[49m\u001B[43mheaders\u001B[49m\u001B[43m=\u001B[49m\u001B[38;5;28;43mself\u001B[39;49m\u001B[43m.\u001B[49m\u001B[43m_HEADER_JSON_ACCEPT\u001B[49m\n\u001B[32m     61\u001B[39m \u001B[43m\u001B[49m\u001B[43m)\u001B[49m.json(\u001B[38;5;28mcls\u001B[39m=RuntimeDecoder)\n",
      "\u001B[36mFile \u001B[39m\u001B[32m/opt/miniconda3/envs/qiskit/lib/python3.13/site-packages/requests/sessions.py:602\u001B[39m, in \u001B[36mSession.get\u001B[39m\u001B[34m(self, url, **kwargs)\u001B[39m\n\u001B[32m    594\u001B[39m \u001B[38;5;250m\u001B[39m\u001B[33mr\u001B[39m\u001B[33;03m\"\"\"Sends a GET request. Returns :class:`Response` object.\u001B[39;00m\n\u001B[32m    595\u001B[39m \n\u001B[32m    596\u001B[39m \u001B[33;03m:param url: URL for the new :class:`Request` object.\u001B[39;00m\n\u001B[32m    597\u001B[39m \u001B[33;03m:param \\*\\*kwargs: Optional arguments that ``request`` takes.\u001B[39;00m\n\u001B[32m    598\u001B[39m \u001B[33;03m:rtype: requests.Response\u001B[39;00m\n\u001B[32m    599\u001B[39m \u001B[33;03m\"\"\"\u001B[39;00m\n\u001B[32m    601\u001B[39m kwargs.setdefault(\u001B[33m\"\u001B[39m\u001B[33mallow_redirects\u001B[39m\u001B[33m\"\u001B[39m, \u001B[38;5;28;01mTrue\u001B[39;00m)\n\u001B[32m--> \u001B[39m\u001B[32m602\u001B[39m \u001B[38;5;28;01mreturn\u001B[39;00m \u001B[38;5;28;43mself\u001B[39;49m\u001B[43m.\u001B[49m\u001B[43mrequest\u001B[49m\u001B[43m(\u001B[49m\u001B[33;43m\"\u001B[39;49m\u001B[33;43mGET\u001B[39;49m\u001B[33;43m\"\u001B[39;49m\u001B[43m,\u001B[49m\u001B[43m \u001B[49m\u001B[43murl\u001B[49m\u001B[43m,\u001B[49m\u001B[43m \u001B[49m\u001B[43m*\u001B[49m\u001B[43m*\u001B[49m\u001B[43mkwargs\u001B[49m\u001B[43m)\u001B[49m\n",
      "\u001B[36mFile \u001B[39m\u001B[32m/opt/miniconda3/envs/qiskit/lib/python3.13/site-packages/qiskit_ibm_runtime/api/session.py:327\u001B[39m, in \u001B[36mRetrySession.request\u001B[39m\u001B[34m(self, method, url, bare, **kwargs)\u001B[39m\n\u001B[32m    325\u001B[39m \u001B[38;5;28;01mtry\u001B[39;00m:\n\u001B[32m    326\u001B[39m     \u001B[38;5;28mself\u001B[39m._log_request_info(final_url, method, kwargs)\n\u001B[32m--> \u001B[39m\u001B[32m327\u001B[39m     response = \u001B[38;5;28;43msuper\u001B[39;49m\u001B[43m(\u001B[49m\u001B[43m)\u001B[49m\u001B[43m.\u001B[49m\u001B[43mrequest\u001B[49m\u001B[43m(\u001B[49m\u001B[43mmethod\u001B[49m\u001B[43m,\u001B[49m\u001B[43m \u001B[49m\u001B[43mfinal_url\u001B[49m\u001B[43m,\u001B[49m\u001B[43m \u001B[49m\u001B[43mheaders\u001B[49m\u001B[43m=\u001B[49m\u001B[43mheaders\u001B[49m\u001B[43m,\u001B[49m\u001B[43m \u001B[49m\u001B[43m*\u001B[49m\u001B[43m*\u001B[49m\u001B[43mkwargs\u001B[49m\u001B[43m)\u001B[49m\n\u001B[32m    328\u001B[39m     response.raise_for_status()\n\u001B[32m    329\u001B[39m \u001B[38;5;28;01mexcept\u001B[39;00m RequestException \u001B[38;5;28;01mas\u001B[39;00m ex:\n\u001B[32m    330\u001B[39m     \u001B[38;5;66;03m# Wrap the requests exceptions into a IBM Q custom one, for\u001B[39;00m\n\u001B[32m    331\u001B[39m     \u001B[38;5;66;03m# compatibility.\u001B[39;00m\n",
      "\u001B[36mFile \u001B[39m\u001B[32m/opt/miniconda3/envs/qiskit/lib/python3.13/site-packages/requests/sessions.py:589\u001B[39m, in \u001B[36mSession.request\u001B[39m\u001B[34m(self, method, url, params, data, headers, cookies, files, auth, timeout, allow_redirects, proxies, hooks, stream, verify, cert, json)\u001B[39m\n\u001B[32m    584\u001B[39m send_kwargs = {\n\u001B[32m    585\u001B[39m     \u001B[33m\"\u001B[39m\u001B[33mtimeout\u001B[39m\u001B[33m\"\u001B[39m: timeout,\n\u001B[32m    586\u001B[39m     \u001B[33m\"\u001B[39m\u001B[33mallow_redirects\u001B[39m\u001B[33m\"\u001B[39m: allow_redirects,\n\u001B[32m    587\u001B[39m }\n\u001B[32m    588\u001B[39m send_kwargs.update(settings)\n\u001B[32m--> \u001B[39m\u001B[32m589\u001B[39m resp = \u001B[38;5;28;43mself\u001B[39;49m\u001B[43m.\u001B[49m\u001B[43msend\u001B[49m\u001B[43m(\u001B[49m\u001B[43mprep\u001B[49m\u001B[43m,\u001B[49m\u001B[43m \u001B[49m\u001B[43m*\u001B[49m\u001B[43m*\u001B[49m\u001B[43msend_kwargs\u001B[49m\u001B[43m)\u001B[49m\n\u001B[32m    591\u001B[39m \u001B[38;5;28;01mreturn\u001B[39;00m resp\n",
      "\u001B[36mFile \u001B[39m\u001B[32m/opt/miniconda3/envs/qiskit/lib/python3.13/site-packages/requests/sessions.py:703\u001B[39m, in \u001B[36mSession.send\u001B[39m\u001B[34m(self, request, **kwargs)\u001B[39m\n\u001B[32m    700\u001B[39m start = preferred_clock()\n\u001B[32m    702\u001B[39m \u001B[38;5;66;03m# Send the request\u001B[39;00m\n\u001B[32m--> \u001B[39m\u001B[32m703\u001B[39m r = \u001B[43madapter\u001B[49m\u001B[43m.\u001B[49m\u001B[43msend\u001B[49m\u001B[43m(\u001B[49m\u001B[43mrequest\u001B[49m\u001B[43m,\u001B[49m\u001B[43m \u001B[49m\u001B[43m*\u001B[49m\u001B[43m*\u001B[49m\u001B[43mkwargs\u001B[49m\u001B[43m)\u001B[49m\n\u001B[32m    705\u001B[39m \u001B[38;5;66;03m# Total elapsed time of the request (approximately)\u001B[39;00m\n\u001B[32m    706\u001B[39m elapsed = preferred_clock() - start\n",
      "\u001B[36mFile \u001B[39m\u001B[32m/opt/miniconda3/envs/qiskit/lib/python3.13/site-packages/requests/adapters.py:667\u001B[39m, in \u001B[36mHTTPAdapter.send\u001B[39m\u001B[34m(self, request, stream, timeout, verify, cert, proxies)\u001B[39m\n\u001B[32m    664\u001B[39m     timeout = TimeoutSauce(connect=timeout, read=timeout)\n\u001B[32m    666\u001B[39m \u001B[38;5;28;01mtry\u001B[39;00m:\n\u001B[32m--> \u001B[39m\u001B[32m667\u001B[39m     resp = \u001B[43mconn\u001B[49m\u001B[43m.\u001B[49m\u001B[43murlopen\u001B[49m\u001B[43m(\u001B[49m\n\u001B[32m    668\u001B[39m \u001B[43m        \u001B[49m\u001B[43mmethod\u001B[49m\u001B[43m=\u001B[49m\u001B[43mrequest\u001B[49m\u001B[43m.\u001B[49m\u001B[43mmethod\u001B[49m\u001B[43m,\u001B[49m\n\u001B[32m    669\u001B[39m \u001B[43m        \u001B[49m\u001B[43murl\u001B[49m\u001B[43m=\u001B[49m\u001B[43murl\u001B[49m\u001B[43m,\u001B[49m\n\u001B[32m    670\u001B[39m \u001B[43m        \u001B[49m\u001B[43mbody\u001B[49m\u001B[43m=\u001B[49m\u001B[43mrequest\u001B[49m\u001B[43m.\u001B[49m\u001B[43mbody\u001B[49m\u001B[43m,\u001B[49m\n\u001B[32m    671\u001B[39m \u001B[43m        \u001B[49m\u001B[43mheaders\u001B[49m\u001B[43m=\u001B[49m\u001B[43mrequest\u001B[49m\u001B[43m.\u001B[49m\u001B[43mheaders\u001B[49m\u001B[43m,\u001B[49m\n\u001B[32m    672\u001B[39m \u001B[43m        \u001B[49m\u001B[43mredirect\u001B[49m\u001B[43m=\u001B[49m\u001B[38;5;28;43;01mFalse\u001B[39;49;00m\u001B[43m,\u001B[49m\n\u001B[32m    673\u001B[39m \u001B[43m        \u001B[49m\u001B[43massert_same_host\u001B[49m\u001B[43m=\u001B[49m\u001B[38;5;28;43;01mFalse\u001B[39;49;00m\u001B[43m,\u001B[49m\n\u001B[32m    674\u001B[39m \u001B[43m        \u001B[49m\u001B[43mpreload_content\u001B[49m\u001B[43m=\u001B[49m\u001B[38;5;28;43;01mFalse\u001B[39;49;00m\u001B[43m,\u001B[49m\n\u001B[32m    675\u001B[39m \u001B[43m        \u001B[49m\u001B[43mdecode_content\u001B[49m\u001B[43m=\u001B[49m\u001B[38;5;28;43;01mFalse\u001B[39;49;00m\u001B[43m,\u001B[49m\n\u001B[32m    676\u001B[39m \u001B[43m        \u001B[49m\u001B[43mretries\u001B[49m\u001B[43m=\u001B[49m\u001B[38;5;28;43mself\u001B[39;49m\u001B[43m.\u001B[49m\u001B[43mmax_retries\u001B[49m\u001B[43m,\u001B[49m\n\u001B[32m    677\u001B[39m \u001B[43m        \u001B[49m\u001B[43mtimeout\u001B[49m\u001B[43m=\u001B[49m\u001B[43mtimeout\u001B[49m\u001B[43m,\u001B[49m\n\u001B[32m    678\u001B[39m \u001B[43m        \u001B[49m\u001B[43mchunked\u001B[49m\u001B[43m=\u001B[49m\u001B[43mchunked\u001B[49m\u001B[43m,\u001B[49m\n\u001B[32m    679\u001B[39m \u001B[43m    \u001B[49m\u001B[43m)\u001B[49m\n\u001B[32m    681\u001B[39m \u001B[38;5;28;01mexcept\u001B[39;00m (ProtocolError, \u001B[38;5;167;01mOSError\u001B[39;00m) \u001B[38;5;28;01mas\u001B[39;00m err:\n\u001B[32m    682\u001B[39m     \u001B[38;5;28;01mraise\u001B[39;00m \u001B[38;5;167;01mConnectionError\u001B[39;00m(err, request=request)\n",
      "\u001B[36mFile \u001B[39m\u001B[32m/opt/miniconda3/envs/qiskit/lib/python3.13/site-packages/urllib3/connectionpool.py:787\u001B[39m, in \u001B[36mHTTPConnectionPool.urlopen\u001B[39m\u001B[34m(self, method, url, body, headers, retries, redirect, assert_same_host, timeout, pool_timeout, release_conn, chunked, body_pos, preload_content, decode_content, **response_kw)\u001B[39m\n\u001B[32m    784\u001B[39m response_conn = conn \u001B[38;5;28;01mif\u001B[39;00m \u001B[38;5;129;01mnot\u001B[39;00m release_conn \u001B[38;5;28;01melse\u001B[39;00m \u001B[38;5;28;01mNone\u001B[39;00m\n\u001B[32m    786\u001B[39m \u001B[38;5;66;03m# Make the request on the HTTPConnection object\u001B[39;00m\n\u001B[32m--> \u001B[39m\u001B[32m787\u001B[39m response = \u001B[38;5;28;43mself\u001B[39;49m\u001B[43m.\u001B[49m\u001B[43m_make_request\u001B[49m\u001B[43m(\u001B[49m\n\u001B[32m    788\u001B[39m \u001B[43m    \u001B[49m\u001B[43mconn\u001B[49m\u001B[43m,\u001B[49m\n\u001B[32m    789\u001B[39m \u001B[43m    \u001B[49m\u001B[43mmethod\u001B[49m\u001B[43m,\u001B[49m\n\u001B[32m    790\u001B[39m \u001B[43m    \u001B[49m\u001B[43murl\u001B[49m\u001B[43m,\u001B[49m\n\u001B[32m    791\u001B[39m \u001B[43m    \u001B[49m\u001B[43mtimeout\u001B[49m\u001B[43m=\u001B[49m\u001B[43mtimeout_obj\u001B[49m\u001B[43m,\u001B[49m\n\u001B[32m    792\u001B[39m \u001B[43m    \u001B[49m\u001B[43mbody\u001B[49m\u001B[43m=\u001B[49m\u001B[43mbody\u001B[49m\u001B[43m,\u001B[49m\n\u001B[32m    793\u001B[39m \u001B[43m    \u001B[49m\u001B[43mheaders\u001B[49m\u001B[43m=\u001B[49m\u001B[43mheaders\u001B[49m\u001B[43m,\u001B[49m\n\u001B[32m    794\u001B[39m \u001B[43m    \u001B[49m\u001B[43mchunked\u001B[49m\u001B[43m=\u001B[49m\u001B[43mchunked\u001B[49m\u001B[43m,\u001B[49m\n\u001B[32m    795\u001B[39m \u001B[43m    \u001B[49m\u001B[43mretries\u001B[49m\u001B[43m=\u001B[49m\u001B[43mretries\u001B[49m\u001B[43m,\u001B[49m\n\u001B[32m    796\u001B[39m \u001B[43m    \u001B[49m\u001B[43mresponse_conn\u001B[49m\u001B[43m=\u001B[49m\u001B[43mresponse_conn\u001B[49m\u001B[43m,\u001B[49m\n\u001B[32m    797\u001B[39m \u001B[43m    \u001B[49m\u001B[43mpreload_content\u001B[49m\u001B[43m=\u001B[49m\u001B[43mpreload_content\u001B[49m\u001B[43m,\u001B[49m\n\u001B[32m    798\u001B[39m \u001B[43m    \u001B[49m\u001B[43mdecode_content\u001B[49m\u001B[43m=\u001B[49m\u001B[43mdecode_content\u001B[49m\u001B[43m,\u001B[49m\n\u001B[32m    799\u001B[39m \u001B[43m    \u001B[49m\u001B[43m*\u001B[49m\u001B[43m*\u001B[49m\u001B[43mresponse_kw\u001B[49m\u001B[43m,\u001B[49m\n\u001B[32m    800\u001B[39m \u001B[43m\u001B[49m\u001B[43m)\u001B[49m\n\u001B[32m    802\u001B[39m \u001B[38;5;66;03m# Everything went great!\u001B[39;00m\n\u001B[32m    803\u001B[39m clean_exit = \u001B[38;5;28;01mTrue\u001B[39;00m\n",
      "\u001B[36mFile \u001B[39m\u001B[32m/opt/miniconda3/envs/qiskit/lib/python3.13/site-packages/urllib3/connectionpool.py:534\u001B[39m, in \u001B[36mHTTPConnectionPool._make_request\u001B[39m\u001B[34m(self, conn, method, url, body, headers, retries, timeout, chunked, response_conn, preload_content, decode_content, enforce_content_length)\u001B[39m\n\u001B[32m    532\u001B[39m \u001B[38;5;66;03m# Receive the response from the server\u001B[39;00m\n\u001B[32m    533\u001B[39m \u001B[38;5;28;01mtry\u001B[39;00m:\n\u001B[32m--> \u001B[39m\u001B[32m534\u001B[39m     response = \u001B[43mconn\u001B[49m\u001B[43m.\u001B[49m\u001B[43mgetresponse\u001B[49m\u001B[43m(\u001B[49m\u001B[43m)\u001B[49m\n\u001B[32m    535\u001B[39m \u001B[38;5;28;01mexcept\u001B[39;00m (BaseSSLError, \u001B[38;5;167;01mOSError\u001B[39;00m) \u001B[38;5;28;01mas\u001B[39;00m e:\n\u001B[32m    536\u001B[39m     \u001B[38;5;28mself\u001B[39m._raise_timeout(err=e, url=url, timeout_value=read_timeout)\n",
      "\u001B[36mFile \u001B[39m\u001B[32m/opt/miniconda3/envs/qiskit/lib/python3.13/site-packages/urllib3/connection.py:516\u001B[39m, in \u001B[36mHTTPConnection.getresponse\u001B[39m\u001B[34m(self)\u001B[39m\n\u001B[32m    513\u001B[39m _shutdown = \u001B[38;5;28mgetattr\u001B[39m(\u001B[38;5;28mself\u001B[39m.sock, \u001B[33m\"\u001B[39m\u001B[33mshutdown\u001B[39m\u001B[33m\"\u001B[39m, \u001B[38;5;28;01mNone\u001B[39;00m)\n\u001B[32m    515\u001B[39m \u001B[38;5;66;03m# Get the response from http.client.HTTPConnection\u001B[39;00m\n\u001B[32m--> \u001B[39m\u001B[32m516\u001B[39m httplib_response = \u001B[38;5;28;43msuper\u001B[39;49m\u001B[43m(\u001B[49m\u001B[43m)\u001B[49m\u001B[43m.\u001B[49m\u001B[43mgetresponse\u001B[49m\u001B[43m(\u001B[49m\u001B[43m)\u001B[49m\n\u001B[32m    518\u001B[39m \u001B[38;5;28;01mtry\u001B[39;00m:\n\u001B[32m    519\u001B[39m     assert_header_parsing(httplib_response.msg)\n",
      "\u001B[36mFile \u001B[39m\u001B[32m/opt/miniconda3/envs/qiskit/lib/python3.13/http/client.py:1430\u001B[39m, in \u001B[36mHTTPConnection.getresponse\u001B[39m\u001B[34m(self)\u001B[39m\n\u001B[32m   1428\u001B[39m \u001B[38;5;28;01mtry\u001B[39;00m:\n\u001B[32m   1429\u001B[39m     \u001B[38;5;28;01mtry\u001B[39;00m:\n\u001B[32m-> \u001B[39m\u001B[32m1430\u001B[39m         \u001B[43mresponse\u001B[49m\u001B[43m.\u001B[49m\u001B[43mbegin\u001B[49m\u001B[43m(\u001B[49m\u001B[43m)\u001B[49m\n\u001B[32m   1431\u001B[39m     \u001B[38;5;28;01mexcept\u001B[39;00m \u001B[38;5;167;01mConnectionError\u001B[39;00m:\n\u001B[32m   1432\u001B[39m         \u001B[38;5;28mself\u001B[39m.close()\n",
      "\u001B[36mFile \u001B[39m\u001B[32m/opt/miniconda3/envs/qiskit/lib/python3.13/http/client.py:331\u001B[39m, in \u001B[36mHTTPResponse.begin\u001B[39m\u001B[34m(self)\u001B[39m\n\u001B[32m    329\u001B[39m \u001B[38;5;66;03m# read until we get a non-100 response\u001B[39;00m\n\u001B[32m    330\u001B[39m \u001B[38;5;28;01mwhile\u001B[39;00m \u001B[38;5;28;01mTrue\u001B[39;00m:\n\u001B[32m--> \u001B[39m\u001B[32m331\u001B[39m     version, status, reason = \u001B[38;5;28;43mself\u001B[39;49m\u001B[43m.\u001B[49m\u001B[43m_read_status\u001B[49m\u001B[43m(\u001B[49m\u001B[43m)\u001B[49m\n\u001B[32m    332\u001B[39m     \u001B[38;5;28;01mif\u001B[39;00m status != CONTINUE:\n\u001B[32m    333\u001B[39m         \u001B[38;5;28;01mbreak\u001B[39;00m\n",
      "\u001B[36mFile \u001B[39m\u001B[32m/opt/miniconda3/envs/qiskit/lib/python3.13/http/client.py:292\u001B[39m, in \u001B[36mHTTPResponse._read_status\u001B[39m\u001B[34m(self)\u001B[39m\n\u001B[32m    291\u001B[39m \u001B[38;5;28;01mdef\u001B[39;00m\u001B[38;5;250m \u001B[39m\u001B[34m_read_status\u001B[39m(\u001B[38;5;28mself\u001B[39m):\n\u001B[32m--> \u001B[39m\u001B[32m292\u001B[39m     line = \u001B[38;5;28mstr\u001B[39m(\u001B[38;5;28;43mself\u001B[39;49m\u001B[43m.\u001B[49m\u001B[43mfp\u001B[49m\u001B[43m.\u001B[49m\u001B[43mreadline\u001B[49m\u001B[43m(\u001B[49m\u001B[43m_MAXLINE\u001B[49m\u001B[43m \u001B[49m\u001B[43m+\u001B[49m\u001B[43m \u001B[49m\u001B[32;43m1\u001B[39;49m\u001B[43m)\u001B[49m, \u001B[33m\"\u001B[39m\u001B[33miso-8859-1\u001B[39m\u001B[33m\"\u001B[39m)\n\u001B[32m    293\u001B[39m     \u001B[38;5;28;01mif\u001B[39;00m \u001B[38;5;28mlen\u001B[39m(line) > _MAXLINE:\n\u001B[32m    294\u001B[39m         \u001B[38;5;28;01mraise\u001B[39;00m LineTooLong(\u001B[33m\"\u001B[39m\u001B[33mstatus line\u001B[39m\u001B[33m\"\u001B[39m)\n",
      "\u001B[36mFile \u001B[39m\u001B[32m/opt/miniconda3/envs/qiskit/lib/python3.13/socket.py:719\u001B[39m, in \u001B[36mSocketIO.readinto\u001B[39m\u001B[34m(self, b)\u001B[39m\n\u001B[32m    717\u001B[39m     \u001B[38;5;28;01mraise\u001B[39;00m \u001B[38;5;167;01mOSError\u001B[39;00m(\u001B[33m\"\u001B[39m\u001B[33mcannot read from timed out object\u001B[39m\u001B[33m\"\u001B[39m)\n\u001B[32m    718\u001B[39m \u001B[38;5;28;01mtry\u001B[39;00m:\n\u001B[32m--> \u001B[39m\u001B[32m719\u001B[39m     \u001B[38;5;28;01mreturn\u001B[39;00m \u001B[38;5;28;43mself\u001B[39;49m\u001B[43m.\u001B[49m\u001B[43m_sock\u001B[49m\u001B[43m.\u001B[49m\u001B[43mrecv_into\u001B[49m\u001B[43m(\u001B[49m\u001B[43mb\u001B[49m\u001B[43m)\u001B[49m\n\u001B[32m    720\u001B[39m \u001B[38;5;28;01mexcept\u001B[39;00m timeout:\n\u001B[32m    721\u001B[39m     \u001B[38;5;28mself\u001B[39m._timeout_occurred = \u001B[38;5;28;01mTrue\u001B[39;00m\n",
      "\u001B[36mFile \u001B[39m\u001B[32m/opt/miniconda3/envs/qiskit/lib/python3.13/ssl.py:1304\u001B[39m, in \u001B[36mSSLSocket.recv_into\u001B[39m\u001B[34m(self, buffer, nbytes, flags)\u001B[39m\n\u001B[32m   1300\u001B[39m     \u001B[38;5;28;01mif\u001B[39;00m flags != \u001B[32m0\u001B[39m:\n\u001B[32m   1301\u001B[39m         \u001B[38;5;28;01mraise\u001B[39;00m \u001B[38;5;167;01mValueError\u001B[39;00m(\n\u001B[32m   1302\u001B[39m           \u001B[33m\"\u001B[39m\u001B[33mnon-zero flags not allowed in calls to recv_into() on \u001B[39m\u001B[38;5;132;01m%s\u001B[39;00m\u001B[33m\"\u001B[39m %\n\u001B[32m   1303\u001B[39m           \u001B[38;5;28mself\u001B[39m.\u001B[34m__class__\u001B[39m)\n\u001B[32m-> \u001B[39m\u001B[32m1304\u001B[39m     \u001B[38;5;28;01mreturn\u001B[39;00m \u001B[38;5;28;43mself\u001B[39;49m\u001B[43m.\u001B[49m\u001B[43mread\u001B[49m\u001B[43m(\u001B[49m\u001B[43mnbytes\u001B[49m\u001B[43m,\u001B[49m\u001B[43m \u001B[49m\u001B[43mbuffer\u001B[49m\u001B[43m)\u001B[49m\n\u001B[32m   1305\u001B[39m \u001B[38;5;28;01melse\u001B[39;00m:\n\u001B[32m   1306\u001B[39m     \u001B[38;5;28;01mreturn\u001B[39;00m \u001B[38;5;28msuper\u001B[39m().recv_into(buffer, nbytes, flags)\n",
      "\u001B[36mFile \u001B[39m\u001B[32m/opt/miniconda3/envs/qiskit/lib/python3.13/ssl.py:1138\u001B[39m, in \u001B[36mSSLSocket.read\u001B[39m\u001B[34m(self, len, buffer)\u001B[39m\n\u001B[32m   1136\u001B[39m \u001B[38;5;28;01mtry\u001B[39;00m:\n\u001B[32m   1137\u001B[39m     \u001B[38;5;28;01mif\u001B[39;00m buffer \u001B[38;5;129;01mis\u001B[39;00m \u001B[38;5;129;01mnot\u001B[39;00m \u001B[38;5;28;01mNone\u001B[39;00m:\n\u001B[32m-> \u001B[39m\u001B[32m1138\u001B[39m         \u001B[38;5;28;01mreturn\u001B[39;00m \u001B[38;5;28;43mself\u001B[39;49m\u001B[43m.\u001B[49m\u001B[43m_sslobj\u001B[49m\u001B[43m.\u001B[49m\u001B[43mread\u001B[49m\u001B[43m(\u001B[49m\u001B[38;5;28;43mlen\u001B[39;49m\u001B[43m,\u001B[49m\u001B[43m \u001B[49m\u001B[43mbuffer\u001B[49m\u001B[43m)\u001B[49m\n\u001B[32m   1139\u001B[39m     \u001B[38;5;28;01melse\u001B[39;00m:\n\u001B[32m   1140\u001B[39m         \u001B[38;5;28;01mreturn\u001B[39;00m \u001B[38;5;28mself\u001B[39m._sslobj.read(\u001B[38;5;28mlen\u001B[39m)\n",
      "\u001B[31mKeyboardInterrupt\u001B[39m: "
     ]
    }
   ],
   "source": [
    "\n",
    "# this should work, im guessing i used a bit too much so its kinda slow right now\n",
    "decoded_bits = \"\"\n",
    "print(backend.name)\n",
    "sampler = Sampler(mode=backend)\n",
    "for i in range(0, len(binary_code), 2):\n",
    "    bits = binary_code[i:i+2]\n",
    "    print(f\"Processing bits: {bits}\")\n",
    "    qc = circuiting(bits)\n",
    "\n",
    "    tqc = transpile(qc, backend)\n",
    "\n",
    "    job = sampler.run([tqc], shots=1024)  \n",
    "    result = job.result()\n",
    "\n",
    "    pub_result = result[0]\n",
    "    print(pub_result.data.c.get_counts())\n",
    "    counts = pub_result.data.c.get_counts()\n",
    "    received = max(counts, key=counts.get)\n",
    "    decoded_bit = received \n",
    "\n",
    "    print(f\"Decoded bits: {decoded_bit}\")\n",
    "    decoded_bits += decoded_bit"
   ]
  },
  {
   "cell_type": "code",
   "execution_count": null,
   "id": "6aeed8ef",
   "metadata": {},
   "outputs": [
    {
     "name": "stdout",
     "output_type": "stream",
     "text": [
      "Decoded bits: \n",
      "Decoded word from binary '010001110110000101110101011101000110000101101101': \n"
     ]
    }
   ],
   "source": [
    "print(f\"Decoded bits: {decoded_bits}\")\n",
    "decoded_word = binary_to_word(decoded_bits)\n",
    "print(f\"Decoded word from binary '{binary_code}': {decoded_word}\")"
   ]
  },
  {
   "cell_type": "code",
   "execution_count": null,
   "id": "3999465c",
   "metadata": {},
   "outputs": [],
   "source": [
    "\n",
    "noise = NoiseModel()\n",
    "error = depolarizing_error(0.5, 1)  \n",
    "error_2q = depolarizing_error(0.5, 2)\n",
    "\n",
    "# So the noise model just didn't give enough ..... noise ..... so i added this error adding thing but unless its set at 1 even it doesnt give much error :(\n",
    "\n",
    "noise.add_all_qubit_quantum_error(error, ['x', 'h','id'])\n",
    "noise.add_all_qubit_quantum_error(error_2q, ['cx'])\n",
    "with open(\"ibm_brisbane_noise_model.pkl\", \"rb\") as f:\n",
    "    noise_model, basis_gates = pickle.load(f)\n",
    "sim = AerSimulator(\n",
    "    noise_model=noise,\n",
    "    basis_gates= basis_gates\n",
    ")\n"
   ]
  },
  {
   "cell_type": "code",
   "execution_count": null,
   "id": "0c988f8f",
   "metadata": {},
   "outputs": [
    {
     "name": "stdout",
     "output_type": "stream",
     "text": [
      "Processing bits: 01\n",
      "{'01': 747, '00': 277}\n",
      "Decoded bits: 01\n",
      "Processing bits: 00\n",
      "{'00': 1024}\n",
      "Decoded bits: 00\n",
      "Processing bits: 01\n",
      "{'01': 769, '00': 255}\n",
      "Decoded bits: 01\n",
      "Processing bits: 11\n",
      "{'01': 195, '10': 179, '00': 77, '11': 573}\n",
      "Decoded bits: 11\n",
      "Processing bits: 01\n",
      "{'00': 248, '01': 776}\n",
      "Decoded bits: 01\n",
      "Processing bits: 10\n",
      "{'00': 242, '10': 782}\n",
      "Decoded bits: 10\n",
      "Processing bits: 00\n",
      "{'00': 1024}\n",
      "Decoded bits: 00\n",
      "Processing bits: 01\n",
      "{'01': 774, '00': 250}\n",
      "Decoded bits: 01\n",
      "Processing bits: 01\n",
      "{'00': 232, '01': 792}\n",
      "Decoded bits: 01\n",
      "Processing bits: 11\n",
      "{'01': 166, '11': 588, '00': 65, '10': 205}\n",
      "Decoded bits: 11\n",
      "Processing bits: 01\n",
      "{'01': 766, '00': 258}\n",
      "Decoded bits: 01\n",
      "Processing bits: 01\n",
      "{'00': 254, '01': 770}\n",
      "Decoded bits: 01\n",
      "Processing bits: 01\n",
      "{'00': 277, '01': 747}\n",
      "Decoded bits: 01\n",
      "Processing bits: 11\n",
      "{'01': 177, '00': 60, '10': 214, '11': 573}\n",
      "Decoded bits: 11\n",
      "Processing bits: 01\n",
      "{'00': 259, '01': 765}\n",
      "Decoded bits: 01\n",
      "Processing bits: 00\n",
      "{'00': 1024}\n",
      "Decoded bits: 00\n",
      "Processing bits: 01\n",
      "{'00': 251, '01': 773}\n",
      "Decoded bits: 01\n",
      "Processing bits: 10\n",
      "{'00': 224, '10': 800}\n",
      "Decoded bits: 10\n",
      "Processing bits: 00\n",
      "{'00': 1024}\n",
      "Decoded bits: 00\n",
      "Processing bits: 01\n",
      "{'01': 751, '00': 273}\n",
      "Decoded bits: 01\n",
      "Processing bits: 01\n",
      "{'00': 263, '01': 761}\n",
      "Decoded bits: 01\n",
      "Processing bits: 10\n",
      "{'00': 245, '10': 779}\n",
      "Decoded bits: 10\n",
      "Processing bits: 11\n",
      "{'01': 175, '00': 61, '10': 221, '11': 567}\n",
      "Decoded bits: 11\n",
      "Processing bits: 01\n",
      "{'01': 785, '00': 239}\n",
      "Decoded bits: 01\n"
     ]
    }
   ],
   "source": [
    "\n",
    "decoded_word = \"\"\n",
    "decoded_bits = \"\"\n",
    "\n",
    "for i in range(0, len(binary_code), 2):\n",
    "    bits = binary_code[i:i+2]\n",
    "    print(f\"Processing bits: {bits}\")\n",
    "    qc = circuiting(bits)\n",
    "    qc_compiled = transpile(qc, sim)\n",
    "    job_sim = sim.run(qc_compiled, shots=1024, optimization_level=0)\n",
    "\n",
    "    result_sim = job_sim.result()\n",
    "\n",
    "    counts = result_sim.get_counts(qc_compiled)\n",
    "    print(counts)\n",
    "    received = max(counts, key=counts.get)\n",
    "    decoded_bit = received \n",
    "    print(f\"Decoded bits: {decoded_bit}\")\n",
    "    decoded_bits += decoded_bit"
   ]
  },
  {
   "cell_type": "code",
   "execution_count": null,
   "id": "94819092",
   "metadata": {},
   "outputs": [
    {
     "name": "stdout",
     "output_type": "stream",
     "text": [
      "ibm_brisbane\n",
      "aer_simulator\n",
      "Decoded bits: 010001110110000101110101011101000110000101101101\n",
      "Decoded word from binary '010001110110000101110101011101000110000101101101': Gautam\n"
     ]
    }
   ],
   "source": [
    "print(backend.name)\n",
    "print(sim.name)\n",
    "print(f\"Decoded bits: {decoded_bits}\")\n",
    "decoded_word = binary_to_word(decoded_bits)\n",
    "print(f\"Decoded word from binary '{binary_code}': {decoded_word}\")\n"
   ]
  }
 ],
 "metadata": {
  "kernelspec": {
   "display_name": "Python (.venv)",
   "language": "python",
   "name": ".venv"
  },
  "language_info": {
   "codemirror_mode": {
    "name": "ipython",
    "version": 3
   },
   "file_extension": ".py",
   "mimetype": "text/x-python",
   "name": "python",
   "nbconvert_exporter": "python",
   "pygments_lexer": "ipython3",
   "version": "3.13.5"
  }
 },
 "nbformat": 4,
 "nbformat_minor": 5
}
