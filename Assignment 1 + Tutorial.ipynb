{
 "cells": [
  {
   "cell_type": "markdown",
   "metadata": {},
   "source": [
    "# Introduction to Quantum Computing: From Fundamentals to Quantum Algorithms\n",
    "**Basic Tutorial to get started with Qiskit**\n",
    "\n",
    "In this tutorial I aim to equip you all with most of the basics of Qiskit especially those that will be needed to solve the first assignment. Now, a basic workflow using Qiskit consists of two stages: **Build** and **Run**. **Build** allows you to make different quantum circuits that represent the problem you are solving, and **Run** that allows you to run them on different backends.  After the jobs have been run, the data is collected and postprocessed depending on the desired output.\n",
    "\n",
    "## Building the circuit\n",
    "\n",
    "The basic element needed for any program is the QuantumCircuit. We begin by creating a `QuantumCircuit` comprised of three qubits."
   ]
  },
  {
   "cell_type": "code",
   "execution_count": 1,
   "metadata": {
    "ExecuteTime": {
     "end_time": "2025-06-16T09:44:09.658119Z",
     "start_time": "2025-06-16T09:44:09.357610Z"
    }
   },
   "outputs": [],
   "source": [
    "# Create a Quantum Circuit acting on a quantum register of three qubits\n",
    "from qiskit import QuantumCircuit\n",
    "circ = QuantumCircuit(3)\n"
   ]
  },
  {
   "cell_type": "markdown",
   "metadata": {},
   "source": []
  },
  {
   "cell_type": "markdown",
   "metadata": {},
   "source": [
    "In Qiskit, a `QuantumRegister` is a fundamental data structure used to organize and reference qubits, especially helpful while making a quantum circuit. For making simple circuits such as above we often let `QuantumCircuit` create anonymous registers automatically by not giving any specific instruction. Quantum Registers can be made and used as follows:"
   ]
  },
  {
   "cell_type": "code",
   "execution_count": 2,
   "metadata": {
    "ExecuteTime": {
     "end_time": "2025-06-16T09:44:12.869439Z",
     "start_time": "2025-06-16T09:44:12.865871Z"
    }
   },
   "outputs": [
    {
     "name": "stdout",
     "output_type": "stream",
     "text": [
      "QuantumRegister(3, 'qr')\n"
     ]
    }
   ],
   "source": [
    "from qiskit import QuantumRegister\n",
    "\n",
    "# Create a quantum register with 3 qubits, named 'qr'\n",
    "qr = QuantumRegister(3, name='qr')\n",
    "print(qr)"
   ]
  },
  {
   "cell_type": "code",
   "execution_count": 3,
   "metadata": {
    "ExecuteTime": {
     "end_time": "2025-06-16T09:44:16.105488Z",
     "start_time": "2025-06-16T09:44:16.102578Z"
    }
   },
   "outputs": [
    {
     "name": "stdout",
     "output_type": "stream",
     "text": [
      "           \n",
      "     qr_0: \n",
      "           \n",
      "     qr_1: \n",
      "           \n",
      "     qr_2: \n",
      "           \n",
      "ancilla_0: \n",
      "           \n",
      "ancilla_1: \n",
      "           \n"
     ]
    }
   ],
   "source": [
    "qr2 = QuantumRegister(2, 'ancilla')\n",
    "circ2 = QuantumCircuit(qr, qr2)  # Circuit with 5 qubits (3 + 2)\n",
    "print(circ2)"
   ]
  },
  {
   "cell_type": "markdown",
   "metadata": {},
   "source": [
    "`QuantumRegister` provides a way to logically group qubits together. Organizing qubits into registers can make your quantum circuit code more readable and manageable, especially for larger circuits like where one might need ancillas (as you might have studied in your Quantum Circuit meet) to impliment the required logic. But for this tutorial you will be looking at simpler circuits hence will used the initial circuit `circ`. After you create the circuit with its registers, you can add gates (\"operations\") to manipulate the registers. As you proceed through the tutorials you will find more gates and circuits; below is an example of a quantum circuit that makes a three-qubit GHZ state (Name of the state is not important, what you should focus on is that this state is often used to impliment various algorithms and how one might make this through gate operations)\n",
    "\n",
    "$$|\\psi\\rangle = \\left(|000\\rangle+|111\\rangle\\right)/\\sqrt{2}.$$\n",
    "\n",
    "To create such a state, we start with a three-qubit quantum register. By default, each qubit in the register is initialized to $|0\\rangle$. To make the GHZ state, we apply the following gates:\n",
    "- A Hadamard gate $H$ on qubit 0, which puts it into the superposition state $\\left(|0\\rangle+|1\\rangle\\right)/\\sqrt{2}$.\n",
    "- A Controlled-NOT operation ($C_{X}$) between qubit 0 and qubit 1.\n",
    "- A Controlled-NOT operation between qubit 0 and qubit 2.\n",
    "\n",
    "On an ideal quantum computer, the state produced by running this circuit would be the GHZ state above.\n",
    "\n",
    "In Qiskit, operations can be added to the circuit one by one, as shown below."
   ]
  },
  {
   "cell_type": "code",
   "execution_count": 4,
   "metadata": {
    "ExecuteTime": {
     "end_time": "2025-06-16T09:44:29.326757Z",
     "start_time": "2025-06-16T09:44:29.319546Z"
    }
   },
   "outputs": [
    {
     "data": {
      "text/plain": [
       "<qiskit.circuit.instructionset.InstructionSet at 0x107e0a230>"
      ]
     },
     "execution_count": 4,
     "metadata": {},
     "output_type": "execute_result"
    }
   ],
   "source": [
    "# Applying H gate on qubit 0\n",
    "circ.h(0)         # circ.x() for applying X gate, for Z gate circ.z()\n",
    "# Applying a CX (CNOT) gate with control qubit 0 and target qubit 1\n",
    "circ.cx(0, 1)\n",
    "# Applying a CX (CNOT) gate with control qubit 0 and target qubit 2, putting the qubits in a GHZ state.\n",
    "circ.cx(0, 2)"
   ]
  },
  {
   "cell_type": "markdown",
   "metadata": {},
   "source": [
    "## Visualize Circuit <a name='visualize'></a>\n",
    "\n",
    "You can visualize your circuit using Qiskit `QuantumCircuit.draw()`, which plots the circuit in the conventional form (The ones used in Nielsen and Chuang book which we are using for our project)"
   ]
  },
  {
   "cell_type": "code",
   "execution_count": 5,
   "metadata": {
    "ExecuteTime": {
     "end_time": "2025-06-16T09:44:33.403821Z",
     "start_time": "2025-06-16T09:44:33.101852Z"
    },
    "scrolled": true
   },
   "outputs": [
    {
     "data": {
      "image/png": "[encoded data removed]",
      "text/plain": [
       "<Figure size 371.107x284.278 with 1 Axes>"
      ]
     },
     "execution_count": 5,
     "metadata": {},
     "output_type": "execute_result"
    }
   ],
   "source": [
    "circ.draw('mpl')"
   ]
  },
  {
   "cell_type": "markdown",
   "metadata": {},
   "source": [
    "When representing the state of a multi-qubit system, the tensor order used in Qiskit is different than that used in most books. Suppose there are $n$ qubits, and qubit $j$ is labeled as $Q_{j}$. Qiskit uses an ordering in which the $n^{\\mathrm{th}}$ qubit is on the <em><strong>left</strong></em> side of the tensor product, so that the basis vectors are labeled as  $Q_{n-1}\\otimes \\cdots  \\otimes  Q_1\\otimes Q_0$.\n",
    "\n",
    "For example, if qubit zero is in state 0, qubit 1 is in state 0, and qubit 2 is in state 1, Qiskit would represent this state as $|100\\rangle$, whereas many books would represent it as $|001\\rangle$.\n",
    "\n",
    "This difference in labeling affects the way multi-qubit operations are represented as matrices. For example, conventionally (as you all might have studied in the quantum circuit meet) a controlled-X ($C_{X}$) operation with qubit 0 being the control and qubit 1 being the target is written as \n",
    "$$|0\\rangle \\langle0|\\otimes I +|1\\rangle \\langle1|\\otimes X$$ \n",
    "(Try to reason why this is correct representation of CNOT gate and find its matrix representation in computational basis). But, in Qiskit due to reverse indexing it is represented as \n",
    "$$I\\otimes|0\\rangle \\langle0| +X\\otimes|1\\rangle \\langle1|$$ \n",
    "With the matrix represention as\n",
    "$$C_X = \\begin{pmatrix} 1 & 0 & 0 & 0 \\\\  0 & 0 & 0 & 1 \\\\ 0 & 0 & 1 & 0 \\\\ 0 & 1 & 0 & 0 \\\\\\end{pmatrix}.$$"
   ]
  },
  {
   "cell_type": "markdown",
   "metadata": {},
   "source": [
    "## Simulating circuits <a name='simulation'></a>\n",
    "\n",
    "To simulate a circuit we use the Statevector simulator from the quant_info module. This simulator returns the quantum state, which is a complex vector of dimensions $2^n$, where $n$ is the number of qubits (so be careful using this as it will quickly get too large to run on your machine). But remember that this is not an actual simulator and doesn't perform any measurements. It just checks what circuit you have made and what the final statevector (wavefunction) will be.\n",
    "\n",
    "There are two stages to the simulator. The first is to set the input state and the second to evolve the state by the quantum circuit."
   ]
  },
  {
   "cell_type": "code",
   "execution_count": 6,
   "metadata": {
    "ExecuteTime": {
     "end_time": "2025-06-16T09:44:39.081351Z",
     "start_time": "2025-06-16T09:44:38.866393Z"
    }
   },
   "outputs": [
    {
     "data": {
      "text/latex": [
       "$$\\frac{\\sqrt{2}}{2} |000\\rangle+\\frac{\\sqrt{2}}{2} |111\\rangle$$"
      ],
      "text/plain": [
       "<IPython.core.display.Latex object>"
      ]
     },
     "execution_count": 6,
     "metadata": {},
     "output_type": "execute_result"
    }
   ],
   "source": [
    "from qiskit.quantum_info import Statevector\n",
    "\n",
    "# Set the initial state of the simulator to the ground state using from_int\n",
    "state = Statevector.from_int(0, 2**3)\n",
    "\n",
    "# Evolve the state by the quantum circuit\n",
    "state = state.evolve(circ)\n",
    "\n",
    "#draw using latex\n",
    "state.draw('latex')"
   ]
  },
  {
   "cell_type": "code",
   "execution_count": 7,
   "metadata": {
    "ExecuteTime": {
     "end_time": "2025-06-16T09:44:42.169550Z",
     "start_time": "2025-06-16T09:44:42.159709Z"
    }
   },
   "outputs": [
    {
     "data": {
      "text/latex": [
       "$$\n",
       "\n",
       "\\begin{bmatrix}\n",
       "\\frac{\\sqrt{2}}{2} & 0 & 0 & 0 & 0 & 0 & 0 & \\frac{\\sqrt{2}}{2}  \\\\\n",
       " \\end{bmatrix}\n",
       "$$"
      ],
      "text/plain": [
       "<IPython.core.display.Latex object>"
      ]
     },
     "execution_count": 7,
     "metadata": {},
     "output_type": "execute_result"
    }
   ],
   "source": [
    "from qiskit.visualization import array_to_latex\n",
    "\n",
    "#Alternative way of representing in latex\n",
    "array_to_latex(state)"
   ]
  },
  {
   "cell_type": "markdown",
   "metadata": {},
   "source": [
    "## Unitary representation of a circuit"
   ]
  },
  {
   "cell_type": "markdown",
   "metadata": {},
   "source": [
    "Qiskit's quant_info module also has an operator method which can be used to make a unitary operator for the circuit. This calculates the $2^n \\times 2^n$ matrix representing the quantum circuit. "
   ]
  },
  {
   "cell_type": "code",
   "execution_count": 8,
   "metadata": {
    "ExecuteTime": {
     "end_time": "2025-06-16T09:44:43.851155Z",
     "start_time": "2025-06-16T09:44:43.844024Z"
    }
   },
   "outputs": [
    {
     "name": "stdout",
     "output_type": "stream",
     "text": [
      "Matrix([[0.707106781186547, 0.707106781186547, 0, 0, 0, 0, 0, 0], [0, 0, 0, 0, 0, 0, 0.707106781186547, -0.707106781186547], [0, 0, 0.707106781186547, 0.707106781186547, 0, 0, 0, 0], [0, 0, 0, 0, 0.707106781186547, -0.707106781186547, 0, 0], [0, 0, 0, 0, 0.707106781186547, 0.707106781186547, 0, 0], [0, 0, 0.707106781186547, -0.707106781186547, 0, 0, 0, 0], [0, 0, 0, 0, 0, 0, 0.707106781186547, 0.707106781186547], [0.707106781186547, -0.707106781186547, 0, 0, 0, 0, 0, 0]])\n"
     ]
    }
   ],
   "source": [
    "from qiskit.quantum_info import Operator\n",
    "import sympy as sp\n",
    "\n",
    "U = Operator(circ)\n",
    "\n",
    "# Show the results\n",
    "M = sp.Matrix(U.data)\n",
    "print(M)"
   ]
  },
  {
   "cell_type": "markdown",
   "metadata": {},
   "source": [
    "## Actual Simulation"
   ]
  },
  {
   "cell_type": "markdown",
   "metadata": {},
   "source": [
    "The simulators above are useful because they provide information about the state output by the ideal circuit and the matrix representation of the circuit. However, a real experiment terminates by _measuring_ each qubit (usually in the computational $|0\\rangle, |1\\rangle$ basis). Without measurement, we cannot gain information about the state. Measurements cause the quantum system to collapse into classical bits. \n",
    "\n",
    "For example, suppose we make independent measurements on each qubit of the three-qubit GHZ state\n",
    "\n",
    "$$|\\psi\\rangle = (|000\\rangle +|111\\rangle)/\\sqrt{2},$$\n",
    "\n",
    "and let $xyz$ denote the bitstring that results. Recall that, under the qubit labeling used by Qiskit, $x$ would correspond to the outcome on qubit 2, $y$ to the outcome on qubit 1, and $z$ to the outcome on qubit 0. \n",
    "\n",
    "\n",
    "<b>Note:</b> This representation of the bitstring puts the most significant bit (MSB) on the left, and the least significant bit (LSB) on the right. This is the standard ordering of binary bitstrings. We order the qubits in the same way (qubit representing the MSB has index 0), which is why Qiskit uses a non-standard tensor product order.\n",
    "\n",
    "\n",
    "Recall the probability of obtaining outcome $xyz$ is given by\n",
    "\n",
    "$$\\mathrm{Pr}(xyz) = |\\langle xyz | \\psi \\rangle |^{2}$$\n",
    "\n",
    "and as such for the GHZ state probability of obtaining 000 or 111 are both 1/2.\n",
    "\n",
    "To simulate a circuit that includes measurement, we need to add measurements to the original circuit above, and use a different simulator. Now that we will try to simulate meausrements in Qiskit, we should first learn about `ClassicalRegister` and how it works. It is a fundamental data structure that serve as storage for classical information, primarily the outcomes of quantum measurements. Let's see how we can impliment it"
   ]
  },
  {
   "cell_type": "code",
   "execution_count": 9,
   "metadata": {
    "ExecuteTime": {
     "end_time": "2025-06-16T09:44:46.921195Z",
     "start_time": "2025-06-16T09:44:46.916779Z"
    }
   },
   "outputs": [
    {
     "name": "stdout",
     "output_type": "stream",
     "text": [
      "           \n",
      " qubits_0: \n",
      "           \n",
      " qubits_1: \n",
      "           \n",
      " qubits_2: \n",
      "           \n",
      "ancilla_0: \n",
      "           \n",
      "ancilla_1: \n",
      "           \n",
      "   meas: 2/\n",
      "           \n"
     ]
    }
   ],
   "source": [
    "from qiskit import ClassicalRegister\n",
    "\n",
    "# Creating registers\n",
    "qr3 = QuantumRegister(3, 'qubits')\n",
    "qr4 = QuantumRegister(2, 'ancilla')\n",
    "cr = ClassicalRegister(2, 'meas')     # Classical bits\n",
    "\n",
    "# Circuit with 5 qubits (3 + 2) and 2 classical bits\n",
    "circ3 = QuantumCircuit(qr3, qr4, cr)\n",
    "print(circ3)"
   ]
  },
  {
   "cell_type": "markdown",
   "metadata": {},
   "source": [
    "But in our simpler circuits where we don't explicitly create registers for our qubits we can use `QuantumCircuit(3, 3)` where the first argument creates a `QuantumRegister` with 3 qubits and 2nd argument creates a `ClassicalRegister` with 3 bits."
   ]
  },
  {
   "cell_type": "code",
   "execution_count": 10,
   "metadata": {
    "ExecuteTime": {
     "end_time": "2025-06-16T09:44:48.641158Z",
     "start_time": "2025-06-16T09:44:48.592750Z"
    }
   },
   "outputs": [
    {
     "data": {
      "image/png": "[encoded data removed]",
      "text/plain": [
       "<Figure size 705.552x367.889 with 1 Axes>"
      ]
     },
     "execution_count": 10,
     "metadata": {},
     "output_type": "execute_result"
    }
   ],
   "source": [
    "# Create a Quantum Circuit\n",
    "meas = QuantumCircuit(3, 3)\n",
    "meas.barrier(range(3))\n",
    "# map the quantum measurement to the classical bits\n",
    "meas.measure(range(3), range(3))\n",
    "\n",
    "# The Qiskit circuit object supports composition.\n",
    "# Here the meas has to be first and front=True (putting it before) \n",
    "# as compose must put a smaller circuit into a larger one.\n",
    "qc = meas.compose(circ, range(3), front=True)\n",
    "\n",
    "#drawing the circuit\n",
    "qc.draw('mpl')"
   ]
  },
  {
   "cell_type": "markdown",
   "metadata": {},
   "source": [
    "`meas.barrier(range(3))` applies a visual and functional barrier to the specified qubits. A barrier in Qiskit prevents the compiler from reordering or merging gates across it while it tries to optimize the circuit if you transpile (will explain latter what this means) the circuit (essential step for running on real quantum hardware). This ensures operations execute in the exact order you define. Use it to isolate circuit sections or debug quantum programs. This circuit also adds a classical register, and three measurements that are used to map the outcome of qubits to the classical bits.\n",
    "\n",
    "In Qiskit the transpiler is a critical tool that optimizes and adapts your quantum circuit to run efficiently on real hardware. It does it by merging/canceling redundant gates and replacing high-level gates with hardware-supported ones, for example decomposing Toffoli gate into CX and single-qubit gates.\n",
    "\n",
    "To simulate this circuit, we use the `AerSimulator`. Each run of this circuit will yield either the bitstring 000 or 111. To build up statistics about the distribution of the bitstrings (to, e.g., estimate $\\mathrm{Pr}(000)$), we need to repeat the circuit many times. The number of times the circuit is repeated can be specified in the `execute` function, via the `shots` keyword."
   ]
  },
  {
   "cell_type": "code",
   "execution_count": 11,
   "metadata": {
    "ExecuteTime": {
     "end_time": "2025-06-16T09:44:56.689168Z",
     "start_time": "2025-06-16T09:44:56.631388Z"
    }
   },
   "outputs": [],
   "source": [
    "# Adding the transpiler to optimize the circuit (But this is not necessary in AerSimulator unlike for real hardware runs)\n",
    "from qiskit import transpile \n",
    "\n",
    "# Use AerSimulator\n",
    "from qiskit_aer import AerSimulator\n",
    "\n",
    "backend = AerSimulator()\n",
    "\n",
    "# First we have to transpile the quantum circuit \n",
    "qc_compiled = transpile(qc, backend)\n",
    "\n",
    "# We've set the number of repeats of the circuit to be 1024\n",
    "job_sim = backend.run(qc_compiled, shots=1024)\n",
    "\n",
    "# Grab the results from the job.\n",
    "result_sim = job_sim.result()"
   ]
  },
  {
   "cell_type": "markdown",
   "metadata": {},
   "source": [
    "Once you have a result object, you can access the counts via the function `get_counts(circuit)`. This gives you the aggregated binary outcomes of the circuit you submitted."
   ]
  },
  {
   "cell_type": "code",
   "execution_count": 12,
   "metadata": {
    "ExecuteTime": {
     "end_time": "2025-06-16T09:44:57.749142Z",
     "start_time": "2025-06-16T09:44:57.745949Z"
    }
   },
   "outputs": [
    {
     "name": "stdout",
     "output_type": "stream",
     "text": [
      "{'111': 498, '000': 526}\n"
     ]
    }
   ],
   "source": [
    "counts = result_sim.get_counts(qc_compiled)\n",
    "print(counts)"
   ]
  },
  {
   "cell_type": "markdown",
   "metadata": {},
   "source": [
    "Approximately 50 percent of the time, the output bitstring is 000. Qiskit also provides a function `plot_histogram`, which allows you to view the outcomes. "
   ]
  },
  {
   "cell_type": "code",
   "execution_count": 13,
   "metadata": {
    "ExecuteTime": {
     "end_time": "2025-06-16T09:44:59.700516Z",
     "start_time": "2025-06-16T09:44:59.663065Z"
    }
   },
   "outputs": [
    {
     "data": {
      "image/png": "[encoded data removed]",
      "text/plain": [
       "<Figure size 640x480 with 1 Axes>"
      ]
     },
     "execution_count": 13,
     "metadata": {},
     "output_type": "execute_result"
    }
   ],
   "source": [
    "from qiskit.visualization import plot_histogram\n",
    "plot_histogram(counts)"
   ]
  },
  {
   "cell_type": "markdown",
   "metadata": {},
   "source": [
    "The estimated outcome probabilities $\\mathrm{Pr}(000)$ and  $\\mathrm{Pr}(111)$ are computed by taking the aggregate counts and dividing by the number of shots (times the circuit was repeated). Try changing the ``shots`` keyword in the ``execute`` function and see how the estimated probabilities change.\n",
    "\n",
    "## Working on Real Quantum Computers\n",
    "\n",
    "Now we will see how to run our circuit in IBM's real quantum hardware. Firstly we will use the `qiskit_ibm_runtime` package for this."
   ]
  },
  {
   "cell_type": "code",
   "execution_count": 14,
   "metadata": {
    "ExecuteTime": {
     "end_time": "2025-06-16T11:23:17.986625Z",
     "start_time": "2025-06-16T11:23:16.335377Z"
    }
   },
   "outputs": [
    {
     "name": "stderr",
     "output_type": "stream",
     "text": [
      "/var/folders/10/n59cq8_939x8yv9swss8dkp00000gn/T/ipykernel_13926/948352642.py:8: DeprecationWarning: The \"ibm_quantum\" channel option is deprecated and will be sunset on 1 July. After this date, \"ibm_cloud\", \"ibm_quantum_platform\", and \"local\" will be the only valid channels. Open Plan users should migrate now.  All other users should review the migration guide (https://quantum.cloud.ibm.com/docs/migration-guides/classic-iqp-to-cloud-iqp)to learn when to migrate.\n",
      "  service = QiskitRuntimeService(\n"
     ]
    },
    {
     "ename": "IBMNotAuthorizedError",
     "evalue": "'401 Client Error: Unauthorized for url: https://auth.quantum.ibm.com/api/users/loginWithToken. This version of platform has been sunset. Create an account or sign in to the upgraded IBM Quantum Platform at https://quantum.cloud.ibm.com, Error code: 3447.'",
     "output_type": "error",
     "traceback": [
      "\u001b[31m---------------------------------------------------------------------------\u001b[39m",
      "\u001b[31mHTTPError\u001b[39m                                 Traceback (most recent call last)",
      "\u001b[36mFile \u001b[39m\u001b[32m/opt/miniconda3/envs/qiskit/lib/python3.13/site-packages/qiskit_ibm_runtime/api/session.py:328\u001b[39m, in \u001b[36mRetrySession.request\u001b[39m\u001b[34m(self, method, url, bare, **kwargs)\u001b[39m\n\u001b[32m    327\u001b[39m     response = \u001b[38;5;28msuper\u001b[39m().request(method, final_url, headers=headers, **kwargs)\n\u001b[32m--> \u001b[39m\u001b[32m328\u001b[39m     \u001b[43mresponse\u001b[49m\u001b[43m.\u001b[49m\u001b[43mraise_for_status\u001b[49m\u001b[43m(\u001b[49m\u001b[43m)\u001b[49m\n\u001b[32m    329\u001b[39m \u001b[38;5;28;01mexcept\u001b[39;00m RequestException \u001b[38;5;28;01mas\u001b[39;00m ex:\n\u001b[32m    330\u001b[39m     \u001b[38;5;66;03m# Wrap the requests exceptions into a IBM Q custom one, for\u001b[39;00m\n\u001b[32m    331\u001b[39m     \u001b[38;5;66;03m# compatibility.\u001b[39;00m\n",
      "\u001b[36mFile \u001b[39m\u001b[32m/opt/miniconda3/envs/qiskit/lib/python3.13/site-packages/requests/models.py:1026\u001b[39m, in \u001b[36mResponse.raise_for_status\u001b[39m\u001b[34m(self)\u001b[39m\n\u001b[32m   1025\u001b[39m \u001b[38;5;28;01mif\u001b[39;00m http_error_msg:\n\u001b[32m-> \u001b[39m\u001b[32m1026\u001b[39m     \u001b[38;5;28;01mraise\u001b[39;00m HTTPError(http_error_msg, response=\u001b[38;5;28mself\u001b[39m)\n",
      "\u001b[31mHTTPError\u001b[39m: 401 Client Error: Unauthorized for url: https://auth.quantum.ibm.com/api/users/loginWithToken",
      "\nThe above exception was the direct cause of the following exception:\n",
      "\u001b[31mIBMNotAuthorizedError\u001b[39m                     Traceback (most recent call last)",
      "\u001b[36mCell\u001b[39m\u001b[36m \u001b[39m\u001b[32mIn[14]\u001b[39m\u001b[32m, line 8\u001b[39m\n\u001b[32m      4\u001b[39m token = \u001b[33m'\u001b[39m\u001b[33m7eac5e4e702e3146e4043879aff4cb905f3bb2d4372d7358eb8bead26fb84691cc20e010b7f834e39645ac12763b6915f066db4a1a28992da39356a5b768ea8b\u001b[39m\u001b[33m'\u001b[39m\n\u001b[32m      5\u001b[39m \u001b[38;5;66;03m# QiskitRuntimeService.save_account(channel=\"ibm_quantum\", token=token, overwrite=True)\u001b[39;00m\n\u001b[32m      6\u001b[39m \u001b[38;5;66;03m# from qiskit_ibm_runtime import QiskitRuntimeService\u001b[39;00m\n\u001b[32m----> \u001b[39m\u001b[32m8\u001b[39m service = \u001b[43mQiskitRuntimeService\u001b[49m\u001b[43m(\u001b[49m\n\u001b[32m      9\u001b[39m \u001b[43m    \u001b[49m\u001b[43mchannel\u001b[49m\u001b[43m=\u001b[49m\u001b[33;43m'\u001b[39;49m\u001b[33;43mibm_quantum\u001b[39;49m\u001b[33;43m'\u001b[39;49m\u001b[43m,\u001b[49m\n\u001b[32m     10\u001b[39m \u001b[43m    \u001b[49m\u001b[43mtoken\u001b[49m\u001b[43m=\u001b[49m\u001b[43mtoken\u001b[49m\n\u001b[32m     11\u001b[39m \u001b[43m)\u001b[49m\n\u001b[32m     13\u001b[39m \u001b[38;5;66;03m# Or save your credentials on disk.\u001b[39;00m\n\u001b[32m     14\u001b[39m \u001b[38;5;66;03m# QiskitRuntimeService.save_account(channel='ibm_quantum', instance='ibm-q/open/main', token='<IBM Quantum API key>')\u001b[39;00m\n\u001b[32m     15\u001b[39m \n\u001b[32m     16\u001b[39m \u001b[38;5;66;03m# List available backends\u001b[39;00m\n\u001b[32m     17\u001b[39m \u001b[38;5;28mprint\u001b[39m(service.backends())\n",
      "\u001b[36mFile \u001b[39m\u001b[32m/opt/miniconda3/envs/qiskit/lib/python3.13/site-packages/qiskit_ibm_runtime/qiskit_runtime_service.py:215\u001b[39m, in \u001b[36mQiskitRuntimeService.__init__\u001b[39m\u001b[34m(self, channel, token, url, filename, name, instance, proxies, verify, private_endpoint, url_resolver, region, plans_preference)\u001b[39m\n\u001b[32m    204\u001b[39m \u001b[38;5;28;01melse\u001b[39;00m:\n\u001b[32m    205\u001b[39m     warnings.warn(\n\u001b[32m    206\u001b[39m         \u001b[33m'\u001b[39m\u001b[33mThe \u001b[39m\u001b[33m\"\u001b[39m\u001b[33mibm_quantum\u001b[39m\u001b[33m\"\u001b[39m\u001b[33m channel option is deprecated and will be sunset on 1 July. \u001b[39m\u001b[33m'\u001b[39m\n\u001b[32m    207\u001b[39m         \u001b[33m'\u001b[39m\u001b[33mAfter this date, \u001b[39m\u001b[33m\"\u001b[39m\u001b[33mibm_cloud\u001b[39m\u001b[33m\"\u001b[39m\u001b[33m, \u001b[39m\u001b[33m\"\u001b[39m\u001b[33mibm_quantum_platform\u001b[39m\u001b[33m\"\u001b[39m\u001b[33m, and \u001b[39m\u001b[33m\"\u001b[39m\u001b[33mlocal\u001b[39m\u001b[33m\"\u001b[39m\u001b[33m will be the \u001b[39m\u001b[33m'\u001b[39m\n\u001b[32m   (...)\u001b[39m\u001b[32m    213\u001b[39m         stacklevel=\u001b[32m2\u001b[39m,\n\u001b[32m    214\u001b[39m     )\n\u001b[32m--> \u001b[39m\u001b[32m215\u001b[39m     auth_client = \u001b[38;5;28;43mself\u001b[39;49m\u001b[43m.\u001b[49m\u001b[43m_authenticate_ibm_quantum_account\u001b[49m\u001b[43m(\u001b[49m\u001b[38;5;28;43mself\u001b[39;49m\u001b[43m.\u001b[49m\u001b[43m_client_params\u001b[49m\u001b[43m)\u001b[49m\n\u001b[32m    216\u001b[39m     \u001b[38;5;66;03m# Update client parameters to use authenticated values.\u001b[39;00m\n\u001b[32m    217\u001b[39m     \u001b[38;5;28mself\u001b[39m._client_params.url = auth_client.current_service_urls()[\u001b[33m\"\u001b[39m\u001b[33mservices\u001b[39m\u001b[33m\"\u001b[39m][\u001b[33m\"\u001b[39m\u001b[33mruntime\u001b[39m\u001b[33m\"\u001b[39m]\n",
      "\u001b[36mFile \u001b[39m\u001b[32m/opt/miniconda3/envs/qiskit/lib/python3.13/site-packages/qiskit_ibm_runtime/qiskit_runtime_service.py:412\u001b[39m, in \u001b[36mQiskitRuntimeService._authenticate_ibm_quantum_account\u001b[39m\u001b[34m(self, client_params)\u001b[39m\n\u001b[32m    405\u001b[39m \u001b[38;5;28;01mif\u001b[39;00m \u001b[38;5;129;01mnot\u001b[39;00m version_info[\u001b[33m\"\u001b[39m\u001b[33mnew_api\u001b[39m\u001b[33m\"\u001b[39m] \u001b[38;5;129;01mor\u001b[39;00m \u001b[33m\"\u001b[39m\u001b[33mapi-auth\u001b[39m\u001b[33m\"\u001b[39m \u001b[38;5;129;01mnot\u001b[39;00m \u001b[38;5;129;01min\u001b[39;00m version_info:\n\u001b[32m    406\u001b[39m     \u001b[38;5;28;01mraise\u001b[39;00m IBMInputValueError(\n\u001b[32m    407\u001b[39m         \u001b[33m\"\u001b[39m\u001b[33mThe URL specified (\u001b[39m\u001b[38;5;132;01m{}\u001b[39;00m\u001b[33m) is not an IBM Quantum authentication URL. \u001b[39m\u001b[33m\"\u001b[39m\n\u001b[32m    408\u001b[39m         \u001b[33m\"\u001b[39m\u001b[33mValid authentication URL: \u001b[39m\u001b[38;5;132;01m{}\u001b[39;00m\u001b[33m.\u001b[39m\u001b[33m\"\u001b[39m.format(\n\u001b[32m    409\u001b[39m             client_params.url, QISKIT_IBM_RUNTIME_API_URL\n\u001b[32m    410\u001b[39m         )\n\u001b[32m    411\u001b[39m     )\n\u001b[32m--> \u001b[39m\u001b[32m412\u001b[39m auth_client = \u001b[43mAuthClient\u001b[49m\u001b[43m(\u001b[49m\u001b[43mclient_params\u001b[49m\u001b[43m)\u001b[49m\n\u001b[32m    413\u001b[39m service_urls = auth_client.current_service_urls()\n\u001b[32m    414\u001b[39m \u001b[38;5;28;01mif\u001b[39;00m \u001b[38;5;129;01mnot\u001b[39;00m service_urls.get(\u001b[33m\"\u001b[39m\u001b[33mservices\u001b[39m\u001b[33m\"\u001b[39m, {}).get(SERVICE_NAME):\n",
      "\u001b[36mFile \u001b[39m\u001b[32m/opt/miniconda3/envs/qiskit/lib/python3.13/site-packages/qiskit_ibm_runtime/api/clients/auth.py:39\u001b[39m, in \u001b[36mAuthClient.__init__\u001b[39m\u001b[34m(self, client_params)\u001b[39m\n\u001b[32m     36\u001b[39m \u001b[38;5;28mself\u001b[39m._service_urls = {}  \u001b[38;5;66;03m# type: ignore[var-annotated]\u001b[39;00m\n\u001b[32m     38\u001b[39m \u001b[38;5;28mself\u001b[39m.auth_api = Api(RetrySession(\u001b[38;5;28mself\u001b[39m.auth_url, **client_params.connection_parameters()))\n\u001b[32m---> \u001b[39m\u001b[32m39\u001b[39m \u001b[38;5;28mself\u001b[39m.base_api = \u001b[38;5;28;43mself\u001b[39;49m\u001b[43m.\u001b[49m\u001b[43m_init_service_clients\u001b[49m\u001b[43m(\u001b[49m\u001b[43m*\u001b[49m\u001b[43m*\u001b[49m\u001b[43mclient_params\u001b[49m\u001b[43m.\u001b[49m\u001b[43mconnection_parameters\u001b[49m\u001b[43m(\u001b[49m\u001b[43m)\u001b[49m\u001b[43m)\u001b[49m\n",
      "\u001b[36mFile \u001b[39m\u001b[32m/opt/miniconda3/envs/qiskit/lib/python3.13/site-packages/qiskit_ibm_runtime/api/clients/auth.py:51\u001b[39m, in \u001b[36mAuthClient._init_service_clients\u001b[39m\u001b[34m(self, **request_kwargs)\u001b[39m\n\u001b[32m     42\u001b[39m \u001b[38;5;250m\u001b[39m\u001b[33;03m\"\"\"Initialize the clients used for communicating with the API.\u001b[39;00m\n\u001b[32m     43\u001b[39m \n\u001b[32m     44\u001b[39m \u001b[33;03mArgs:\u001b[39;00m\n\u001b[32m   (...)\u001b[39m\u001b[32m     48\u001b[39m \u001b[33;03m    Client for the API server.\u001b[39;00m\n\u001b[32m     49\u001b[39m \u001b[33;03m\"\"\"\u001b[39;00m\n\u001b[32m     50\u001b[39m \u001b[38;5;66;03m# Request an access token.\u001b[39;00m\n\u001b[32m---> \u001b[39m\u001b[32m51\u001b[39m \u001b[38;5;28mself\u001b[39m.access_token = \u001b[38;5;28;43mself\u001b[39;49m\u001b[43m.\u001b[49m\u001b[43m_request_access_token\u001b[49m\u001b[43m(\u001b[49m\u001b[43m)\u001b[49m\n\u001b[32m     52\u001b[39m \u001b[38;5;28mself\u001b[39m.auth_api.session.auth = QuantumAuth(access_token=\u001b[38;5;28mself\u001b[39m.access_token)\n\u001b[32m     53\u001b[39m \u001b[38;5;28mself\u001b[39m._service_urls = \u001b[38;5;28mself\u001b[39m.user_urls()\n",
      "\u001b[36mFile \u001b[39m\u001b[32m/opt/miniconda3/envs/qiskit/lib/python3.13/site-packages/qiskit_ibm_runtime/api/clients/auth.py:77\u001b[39m, in \u001b[36mAuthClient._request_access_token\u001b[39m\u001b[34m(self)\u001b[39m\n\u001b[32m     67\u001b[39m \u001b[38;5;250m\u001b[39m\u001b[33;03m\"\"\"Request a new access token from the API authentication service.\u001b[39;00m\n\u001b[32m     68\u001b[39m \n\u001b[32m     69\u001b[39m \u001b[33;03mReturns:\u001b[39;00m\n\u001b[32m   (...)\u001b[39m\u001b[32m     74\u001b[39m \u001b[33;03m    RequestsApiError: If the request failed.\u001b[39;00m\n\u001b[32m     75\u001b[39m \u001b[33;03m\"\"\"\u001b[39;00m\n\u001b[32m     76\u001b[39m \u001b[38;5;28;01mtry\u001b[39;00m:\n\u001b[32m---> \u001b[39m\u001b[32m77\u001b[39m     response = \u001b[38;5;28;43mself\u001b[39;49m\u001b[43m.\u001b[49m\u001b[43mauth_api\u001b[49m\u001b[43m.\u001b[49m\u001b[43mlogin\u001b[49m\u001b[43m(\u001b[49m\u001b[38;5;28;43mself\u001b[39;49m\u001b[43m.\u001b[49m\u001b[43mapi_token\u001b[49m\u001b[43m)\u001b[49m\n\u001b[32m     78\u001b[39m     \u001b[38;5;28;01mreturn\u001b[39;00m response[\u001b[33m\"\u001b[39m\u001b[33mid\u001b[39m\u001b[33m\"\u001b[39m]\n\u001b[32m     79\u001b[39m \u001b[38;5;28;01mexcept\u001b[39;00m RequestsApiError \u001b[38;5;28;01mas\u001b[39;00m ex:\n\u001b[32m     80\u001b[39m     \u001b[38;5;66;03m# Get the original exception that raised.\u001b[39;00m\n",
      "\u001b[36mFile \u001b[39m\u001b[32m/opt/miniconda3/envs/qiskit/lib/python3.13/site-packages/qiskit_ibm_runtime/api/rest/root.py:93\u001b[39m, in \u001b[36mApi.login\u001b[39m\u001b[34m(self, api_token)\u001b[39m\n\u001b[32m     84\u001b[39m \u001b[38;5;250m\u001b[39m\u001b[33;03m\"\"\"Login with token.\u001b[39;00m\n\u001b[32m     85\u001b[39m \n\u001b[32m     86\u001b[39m \u001b[33;03mArgs:\u001b[39;00m\n\u001b[32m   (...)\u001b[39m\u001b[32m     90\u001b[39m \u001b[33;03m    JSON response.\u001b[39;00m\n\u001b[32m     91\u001b[39m \u001b[33;03m\"\"\"\u001b[39;00m\n\u001b[32m     92\u001b[39m url = \u001b[38;5;28mself\u001b[39m.get_url(\u001b[33m\"\u001b[39m\u001b[33mlogin\u001b[39m\u001b[33m\"\u001b[39m)\n\u001b[32m---> \u001b[39m\u001b[32m93\u001b[39m \u001b[38;5;28;01mreturn\u001b[39;00m \u001b[38;5;28;43mself\u001b[39;49m\u001b[43m.\u001b[49m\u001b[43msession\u001b[49m\u001b[43m.\u001b[49m\u001b[43mpost\u001b[49m\u001b[43m(\u001b[49m\n\u001b[32m     94\u001b[39m \u001b[43m    \u001b[49m\u001b[43murl\u001b[49m\u001b[43m,\u001b[49m\u001b[43m \u001b[49m\u001b[43mjson\u001b[49m\u001b[43m=\u001b[49m\u001b[43m{\u001b[49m\u001b[33;43m\"\u001b[39;49m\u001b[33;43mapiToken\u001b[39;49m\u001b[33;43m\"\u001b[39;49m\u001b[43m:\u001b[49m\u001b[43m \u001b[49m\u001b[43mapi_token\u001b[49m\u001b[43m}\u001b[49m\u001b[43m,\u001b[49m\u001b[43m \u001b[49m\u001b[43mheaders\u001b[49m\u001b[43m=\u001b[49m\u001b[38;5;28;43mself\u001b[39;49m\u001b[43m.\u001b[49m\u001b[43m_HEADER_JSON_CONTENT\u001b[49m\n\u001b[32m     95\u001b[39m \u001b[43m\u001b[49m\u001b[43m)\u001b[49m.json()\n",
      "\u001b[36mFile \u001b[39m\u001b[32m/opt/miniconda3/envs/qiskit/lib/python3.13/site-packages/requests/sessions.py:637\u001b[39m, in \u001b[36mSession.post\u001b[39m\u001b[34m(self, url, data, json, **kwargs)\u001b[39m\n\u001b[32m    626\u001b[39m \u001b[38;5;28;01mdef\u001b[39;00m\u001b[38;5;250m \u001b[39m\u001b[34mpost\u001b[39m(\u001b[38;5;28mself\u001b[39m, url, data=\u001b[38;5;28;01mNone\u001b[39;00m, json=\u001b[38;5;28;01mNone\u001b[39;00m, **kwargs):\n\u001b[32m    627\u001b[39m \u001b[38;5;250m    \u001b[39m\u001b[33mr\u001b[39m\u001b[33;03m\"\"\"Sends a POST request. Returns :class:`Response` object.\u001b[39;00m\n\u001b[32m    628\u001b[39m \n\u001b[32m    629\u001b[39m \u001b[33;03m    :param url: URL for the new :class:`Request` object.\u001b[39;00m\n\u001b[32m   (...)\u001b[39m\u001b[32m    634\u001b[39m \u001b[33;03m    :rtype: requests.Response\u001b[39;00m\n\u001b[32m    635\u001b[39m \u001b[33;03m    \"\"\"\u001b[39;00m\n\u001b[32m--> \u001b[39m\u001b[32m637\u001b[39m     \u001b[38;5;28;01mreturn\u001b[39;00m \u001b[38;5;28;43mself\u001b[39;49m\u001b[43m.\u001b[49m\u001b[43mrequest\u001b[49m\u001b[43m(\u001b[49m\u001b[33;43m\"\u001b[39;49m\u001b[33;43mPOST\u001b[39;49m\u001b[33;43m\"\u001b[39;49m\u001b[43m,\u001b[49m\u001b[43m \u001b[49m\u001b[43murl\u001b[49m\u001b[43m,\u001b[49m\u001b[43m \u001b[49m\u001b[43mdata\u001b[49m\u001b[43m=\u001b[49m\u001b[43mdata\u001b[49m\u001b[43m,\u001b[49m\u001b[43m \u001b[49m\u001b[43mjson\u001b[49m\u001b[43m=\u001b[49m\u001b[43mjson\u001b[49m\u001b[43m,\u001b[49m\u001b[43m \u001b[49m\u001b[43m*\u001b[49m\u001b[43m*\u001b[49m\u001b[43mkwargs\u001b[49m\u001b[43m)\u001b[49m\n",
      "\u001b[36mFile \u001b[39m\u001b[32m/opt/miniconda3/envs/qiskit/lib/python3.13/site-packages/qiskit_ibm_runtime/api/session.py:349\u001b[39m, in \u001b[36mRetrySession.request\u001b[39m\u001b[34m(self, method, url, bare, **kwargs)\u001b[39m\n\u001b[32m    347\u001b[39m         message += \u001b[33mf\u001b[39m\u001b[33m\"\u001b[39m\u001b[33m. \u001b[39m\u001b[38;5;132;01m{\u001b[39;00mex.response.text\u001b[38;5;132;01m}\u001b[39;00m\u001b[33m\"\u001b[39m\n\u001b[32m    348\u001b[39m \u001b[38;5;28;01mif\u001b[39;00m status_code == \u001b[32m401\u001b[39m:\n\u001b[32m--> \u001b[39m\u001b[32m349\u001b[39m     \u001b[38;5;28;01mraise\u001b[39;00m IBMNotAuthorizedError(message) \u001b[38;5;28;01mfrom\u001b[39;00m\u001b[38;5;250m \u001b[39m\u001b[34;01mex\u001b[39;00m\n\u001b[32m    350\u001b[39m \u001b[38;5;28;01mif\u001b[39;00m status_code == \u001b[32m503\u001b[39m:  \u001b[38;5;66;03m# Planned maintenance outage\u001b[39;00m\n\u001b[32m    351\u001b[39m     \u001b[38;5;28;01mraise\u001b[39;00m RequestsApiError(\n\u001b[32m    352\u001b[39m         \u001b[33m\"\u001b[39m\u001b[33mUnexpected response received from server. Please check if the service \u001b[39m\u001b[33m\"\u001b[39m\n\u001b[32m    353\u001b[39m         \u001b[33m\"\u001b[39m\u001b[33mis in maintenance mode \u001b[39m\u001b[33m\"\u001b[39m\n\u001b[32m    354\u001b[39m         \u001b[33mf\u001b[39m\u001b[33m\"\u001b[39m\u001b[33mhttps://docs.quantum.ibm.com/announcements/service-alerts \u001b[39m\u001b[38;5;132;01m{\u001b[39;00mmessage\u001b[38;5;132;01m}\u001b[39;00m\u001b[33m\"\u001b[39m\n\u001b[32m    355\u001b[39m     )\n",
      "\u001b[31mIBMNotAuthorizedError\u001b[39m: '401 Client Error: Unauthorized for url: https://auth.quantum.ibm.com/api/users/loginWithToken. This version of platform has been sunset. Create an account or sign in to the upgraded IBM Quantum Platform at https://quantum.cloud.ibm.com, Error code: 3447.'"
     ]
    }
   ],
   "source": [
    "from qiskit_ibm_runtime import QiskitRuntimeService\n",
    "\n",
    "# Uncomment the line below when you try to acccess IBM quantum hardware for the first time, this will save our account so you can directly use it later\n",
    "token = '7eac5e4e702e3146e4043879aff4cb905f3bb2d4372d7358eb8bead26fb84691cc20e010b7f834e39645ac12763b6915f066db4a1a28992da39356a5b768ea8b'\n",
    "# QiskitRuntimeService.save_account(channel=\"ibm_quantum\", token=token, overwrite=True)\n",
    "# from qiskit_ibm_runtime import QiskitRuntimeService\n",
    "\n",
    "service = QiskitRuntimeService(\n",
    "    channel='ibm_quantum',\n",
    "    token=token\n",
    ")\n",
    "\n",
    "# Or save your credentials on disk.\n",
    "# QiskitRuntimeService.save_account(channel='ibm_quantum', instance='ibm-q/open/main', token='<IBM Quantum API key>')\n",
    "\n",
    "# List available backends\n",
    "print(service.backends())"
   ]
  },
  {
   "cell_type": "code",
   "execution_count": null,
   "metadata": {
    "ExecuteTime": {
     "end_time": "2025-06-16T10:15:24.523691Z",
     "start_time": "2025-06-16T10:15:23.431Z"
    }
   },
   "outputs": [],
   "source": [
    "backend = service.least_busy(operational=true, min_num_qubits=5)"
   ]
  },
  {
   "cell_type": "markdown",
   "metadata": {},
   "source": [
    "`.least_busy(operational=True, min_num_qubits=5)` is used to find the quantum backend (real hardware device) that currently has the shortest queue or lowest workload. The idea is to pick a device that will execute your job the fastest. The first argument ensures that the selected backend is currently online and functioning correctly. While the second argument ensures that backend supports atleast 5 qubits (not necessary here, added just for informational purpose)."
   ]
  },
  {
   "cell_type": "code",
   "execution_count": null,
   "metadata": {
    "ExecuteTime": {
     "end_time": "2025-06-16T10:15:29.495639Z",
     "start_time": "2025-06-16T10:15:29.489403Z"
    }
   },
   "outputs": [
    {
     "name": "stdout",
     "output_type": "stream",
     "text": [
      "Name: ibm_sherbrooke\n",
      "Version: 2\n",
      "No. of qubits: 127\n",
      "\n"
     ]
    }
   ],
   "source": [
    "print(                                 # Displays the details of the selected backend\n",
    "    f\"Name: {backend.name}\\n\"\n",
    "    f\"Version: {backend.version}\\n\"\n",
    "    f\"No. of qubits: {backend.num_qubits}\\n\"\n",
    ")"
   ]
  },
  {
   "cell_type": "markdown",
   "metadata": {},
   "source": [
    "Now, we will transpile the circuit as it is necessary in this case (to make the circuit compatible with the backend's capabilities). `optimization_level` argument controls the aggressiveness of the optimization process. It tells the transpiler how much effort to put into reducing the circuit's depth and gate count. Level 2 means medium optimization. By default it is set to 1, 0 means no optimization."
   ]
  },
  {
   "cell_type": "code",
   "execution_count": null,
   "metadata": {
    "ExecuteTime": {
     "end_time": "2025-06-16T10:15:41.657510Z",
     "start_time": "2025-06-16T10:15:41.600718Z"
    }
   },
   "outputs": [],
   "source": [
    "# First we have to transpile the quantum circuit \n",
    "qc_compiled = transpile(qc, backend, optimization_level=2)"
   ]
  },
  {
   "cell_type": "markdown",
   "metadata": {},
   "source": [
    "As we can see below, after transpiling the circuit it has been transformed to the hardware compatible format. Out of the 127 available qubits, qubits 41, 42 and 51 are used to impliment out circuit while the rest are kept as ancillas."
   ]
  },
  {
   "cell_type": "code",
   "execution_count": null,
   "metadata": {
    "ExecuteTime": {
     "end_time": "2025-06-16T10:15:43.186222Z",
     "start_time": "2025-06-16T10:15:43.140109Z"
    }
   },
   "outputs": [
    {
     "data": {
      "image/png": "[encoded data removed]",
      "text/plain": [
       "<Figure size 1194.72x367.889 with 1 Axes>"
      ]
     },
     "execution_count": 35,
     "metadata": {},
     "output_type": "execute_result"
    }
   ],
   "source": [
    "qc_compiled.draw('mpl')"
   ]
  },
  {
   "cell_type": "markdown",
   "metadata": {},
   "source": [
    "In Qiskit, `Sampler` and `Estimator` are the two primary ways one can send job instructions to real hardware. The Sampler is designed to efficiently return probability distributions of measurement outcomes in the computational basis, just like what we did with AerSimulator previously. Estimator is designed to efficiently calculate the expectation values of quantum observables. While you can use the Sampler to approximately estimate the state and then manually calculate the expectation value, estimator is just the efficient and better method (mostly due to error in state estimation using sampler as the dimensions of the Hilbert space increases)."
   ]
  },
  {
   "cell_type": "code",
   "execution_count": null,
   "metadata": {
    "ExecuteTime": {
     "end_time": "2025-06-16T10:15:46.887906Z",
     "start_time": "2025-06-16T10:15:46.884324Z"
    }
   },
   "outputs": [],
   "source": [
    "from qiskit_ibm_runtime import Sampler\n",
    "\n",
    "sampler = Sampler(mode=backend)"
   ]
  },
  {
   "cell_type": "code",
   "execution_count": null,
   "metadata": {
    "ExecuteTime": {
     "end_time": "2025-06-16T10:15:48.511639Z",
     "start_time": "2025-06-16T10:15:48.502102Z"
    }
   },
   "outputs": [
    {
     "name": "stderr",
     "output_type": "stream",
     "text": [
      "/opt/miniconda3/envs/qiskit/lib/python3.13/site-packages/qiskit_ibm_runtime/qiskit_runtime_service.py:1129: UserWarning: IBM Quantum Platform is moving, and this version will be sunset on July 1. To get started on the new platform, read the migration guide at https://docs.quantum.ibm.com/migration-guides/classic-iqp-to-cloud-iqp\n",
      "  warnings.warn(warning_message)\n"
     ]
    }
   ],
   "source": [
    "job = sampler.run([qc_compiled],shots=1024)  # shots define how many times the measurement made"
   ]
  },
  {
   "cell_type": "code",
   "execution_count": null,
   "metadata": {
    "ExecuteTime": {
     "end_time": "2025-06-16T10:15:49.591493Z",
     "start_time": "2025-06-16T10:15:49.587861Z"
    }
   },
   "outputs": [
    {
     "name": "stdout",
     "output_type": "stream",
     "text": [
      "{'001': 3, '111': 528, '000': 459, '011': 11, '100': 9, '010': 9, '101': 5}\n"
     ]
    }
   ],
   "source": [
    "# Getting the results\n",
    "result = job.result()\n",
    "pub_result = result[0]\n",
    "print(pub_result.data.c.get_counts())"
   ]
  },
  {
   "cell_type": "code",
   "execution_count": null,
   "metadata": {
    "ExecuteTime": {
     "end_time": "2025-06-16T10:15:51.325774Z",
     "start_time": "2025-06-16T10:15:51.291209Z"
    }
   },
   "outputs": [
    {
     "data": {
      "image/png": "[encoded data removed]",
      "text/plain": [
       "<Figure size 640x480 with 1 Axes>"
      ]
     },
     "execution_count": 39,
     "metadata": {},
     "output_type": "execute_result"
    }
   ],
   "source": [
    "counts = pub_result.data.c.get_counts()\n",
    "plot_histogram(counts)"
   ]
  },
  {
   "cell_type": "markdown",
   "metadata": {},
   "source": [
    "As we can see from the histogram above, there are a few instances of measuresing those states which must be impossible to measure (due to 0 prob.) for our state construction. This is due to the errors in real quantum hardware (The real 'kebab me haddi' preventing the quantum revolution from its onset). \n",
    "\n",
    "But since using real quantum computers comes at a cost (using up the free 10 mins provided monthly to free users), we will often find ourselves using the `AerSimulator` but with synthetically adding errors in it to better simulate the real quantum computers. Below we will see how to add errors in the `AerSimulator`. For this we will be using the `qiskit_aer.noise` module."
   ]
  },
  {
   "cell_type": "code",
   "execution_count": null,
   "metadata": {
    "ExecuteTime": {
     "end_time": "2025-06-16T10:15:55.178321Z",
     "start_time": "2025-06-16T10:15:55.175724Z"
    }
   },
   "outputs": [],
   "source": [
    "from qiskit_aer.noise import NoiseModel"
   ]
  },
  {
   "cell_type": "code",
   "execution_count": null,
   "metadata": {
    "ExecuteTime": {
     "end_time": "2025-06-16T10:15:56.452445Z",
     "start_time": "2025-06-16T10:15:56.449160Z"
    }
   },
   "outputs": [
    {
     "data": {
      "text/plain": [
       "'ibm_brisbane'"
      ]
     },
     "execution_count": 41,
     "metadata": {},
     "output_type": "execute_result"
    }
   ],
   "source": [
    "backend.name"
   ]
  },
  {
   "cell_type": "markdown",
   "metadata": {},
   "source": [
    "`NoiseModel.from_backend(backend)` helps us create a statistical model of the noise and errors characteristic of the specific real quantum hardware backend that we have chosen. We will used this model for replicating errors in `AerSimulator`."
   ]
  },
  {
   "cell_type": "code",
   "execution_count": null,
   "metadata": {
    "ExecuteTime": {
     "end_time": "2025-06-16T10:16:00.336110Z",
     "start_time": "2025-06-16T10:16:00.328198Z"
    }
   },
   "outputs": [],
   "source": [
    "# Configure noise model\n",
    "noise_model = NoiseModel.from_backend(backend)"
   ]
  },
  {
   "cell_type": "code",
   "execution_count": null,
   "metadata": {
    "ExecuteTime": {
     "end_time": "2025-06-16T10:16:01.940393Z",
     "start_time": "2025-06-16T10:16:01.884447Z"
    }
   },
   "outputs": [],
   "source": [
    "backend = AerSimulator(noise_model=noise_model)\n",
    "\n",
    "qc_compiled = transpile(qc, backend)\n",
    "\n",
    "job_sim = backend.run(qc_compiled, shots=1024)"
   ]
  },
  {
   "cell_type": "code",
   "execution_count": null,
   "metadata": {
    "ExecuteTime": {
     "end_time": "2025-06-16T10:16:03.196797Z",
     "start_time": "2025-06-16T10:16:03.193671Z"
    }
   },
   "outputs": [
    {
     "name": "stdout",
     "output_type": "stream",
     "text": [
      "{'100': 2, '110': 18, '001': 25, '101': 18, '010': 23, '000': 474, '011': 5, '111': 459}\n"
     ]
    }
   ],
   "source": [
    "result_sim = job_sim.result()\n",
    "\n",
    "counts = result_sim.get_counts(qc_compiled)\n",
    "\n",
    "print(counts)"
   ]
  },
  {
   "cell_type": "code",
   "execution_count": null,
   "metadata": {
    "ExecuteTime": {
     "end_time": "2025-06-16T10:16:05.041027Z",
     "start_time": "2025-06-16T10:16:05.007525Z"
    }
   },
   "outputs": [
    {
     "data": {
      "image/png": "[encoded data removed]",
      "text/plain": [
       "<Figure size 640x480 with 1 Axes>"
      ]
     },
     "execution_count": 45,
     "metadata": {},
     "output_type": "execute_result"
    }
   ],
   "source": [
    "plot_histogram(counts)"
   ]
  },
  {
   "cell_type": "markdown",
   "metadata": {},
   "source": [
    "# Assignment 1\n",
    "\n",
    "Now that you have learnt most of the basics of Qiskit, we can start with our first assigment. Below is the details of what you have to do in this assignment:\n",
    "1. Create the circuit for superdense coding (using 2 qubits and 2 classical bits) and check its validity using Statevector for all the 4 possible cases.\n",
    "2. Run it on AerSimulator (no noise) and Real Quantum Hardware (1024 shots for both) for transmitting the classical bits 11 and find how many times do you send correct message by plotting histogram.\n",
    "3. Imagine a utopian future where the world has undergone a technological revolution, a time when quantum infrastructure is so advanced that transmitting qubits across the globe is far cheaper than sending classical bits. In this future, quantum communication is preferred over traditional communication protocols, and superdense coding has become the new standard for efficient data transfer. Instead of sending one classical bit at a time, entire messages are now compressed into entangled qubit pairs and decoded on the other side. In this part of the assignment, you’ll step into this future and your task is to encode a classical message using superdense coding, simulate its quantum transmission and then reconstruct it at the receiver’s end, all while exploring one of the earliest and most insightful ideas that shaped the field of quantum communication.\n",
    "<br>\n",
    "<br>\n",
    "(i) Use the functions below to encode any word into bit sequence and use 2 bits at a time to transfer it to the receiver’s end and again changing the sequence back into strings to retrive the word being sent.\n",
    "<br>\n",
    "<br>\n",
    "(ii) Firstly you will use the nosie-free AerSimulator to check if you circuit is working fine.\n",
    "<br>\n",
    "<br>\n",
    "(iii) Now you will run this circuit on a real hardware to send a message. Remember that real hardwares have errors so the word that you are trying to send might change into something entirely different upon its arrival at the reciever's end.\n",
    "<br>\n",
    "<br>\n",
    "(iv) Since running this circuit even once would've shaved off atleast 30s from the free 10 mins of your plan, so going forward we will be using noise induced AerSimulator for running our circuit.\n",
    "<br>\n",
    "<br>\n",
    "(v) Run your circuit as many times as you want on this noisy AerSimulator and see your message humorously turn into something completely different.\n",
    "<br>\n",
    "<br>\n",
    "(vi) Since in this future qubit transmission is cheaper but not infinitely cheaper, so we have to make sure that correct message is transmitted most certainly as cheaply as possible. Can you find a way through which you can send correct message (almost always) through noisy AerSimulator in as little tries as possible? Hint (almost all the answer) is given below but I want you to think about it on your own for sometime to foster new ideas and if you can't find any such method after sometime then look at the hint and try to impliment that."
   ]
  },
  {
   "cell_type": "code",
   "execution_count": null,
   "metadata": {
    "ExecuteTime": {
     "end_time": "2025-06-16T10:16:08.191726Z",
     "start_time": "2025-06-16T10:16:08.188996Z"
    }
   },
   "outputs": [],
   "source": [
    "def word_to_binary(word):\n",
    "    binary = ''.join(format(ord(c), '08b') for c in word)\n",
    "    return binary \n",
    "# Remember for each letter in your word it will add 8 more bits so choose a relatively shorter word ~12 letters or less"
   ]
  },
  {
   "cell_type": "code",
   "execution_count": null,
   "metadata": {
    "ExecuteTime": {
     "end_time": "2025-06-16T10:16:09.309077Z",
     "start_time": "2025-06-16T10:16:09.305782Z"
    }
   },
   "outputs": [
    {
     "name": "stdout",
     "output_type": "stream",
     "text": [
      "0100100001100101011011000110110001101111\n"
     ]
    }
   ],
   "source": [
    "# Example\n",
    "sequence = word_to_binary(\"Hello\")\n",
    "print(sequence)"
   ]
  },
  {
   "cell_type": "code",
   "execution_count": null,
   "metadata": {
    "ExecuteTime": {
     "end_time": "2025-06-16T10:16:10.891269Z",
     "start_time": "2025-06-16T10:16:10.888024Z"
    }
   },
   "outputs": [],
   "source": [
    "def binary_to_word(binary_str):\n",
    "    # Pad with zeros if length not multiple of 8\n",
    "    padded = binary_str.ljust((len(binary_str) + 7) // 8 * 8, '0')\n",
    "    return ''.join(chr(int(padded[i:i+8], 2)) for i in range(0, len(padded), 8))"
   ]
  },
  {
   "cell_type": "code",
   "execution_count": null,
   "metadata": {
    "ExecuteTime": {
     "end_time": "2025-06-16T10:16:12.839828Z",
     "start_time": "2025-06-16T10:16:12.836187Z"
    }
   },
   "outputs": [
    {
     "name": "stdout",
     "output_type": "stream",
     "text": [
      "Hello\n"
     ]
    }
   ],
   "source": [
    "# Example\n",
    "word = binary_to_word(sequence)\n",
    "print(word)"
   ]
  },
  {
   "cell_type": "markdown",
   "metadata": {},
   "source": [
    "<br>\n",
    "<br>\n",
    "<br>\n",
    "<br>\n",
    "<br>\n",
    "<br>\n",
    "<br>\n",
    "Hint for (iv): To solve this problem you can use majority voting, a simple but effective error mitigation strategy to correct noise induced errors in superdense coding. By transmitting the same message multiple times (say, 10 trials) using a noisy simulator, we collect statistics on each bit position in the received binary string. For each position, we select the bit value (0 or 1) that appeared most frequently across all trials, effectively \"voting out\" random errors caused by noise. This works because while individual transmissions may be corrupted, the statistical consensus will converges toward the correct bit. Though not always correct (especially for large errors), it demonstrates how redundancy can combat quantum errors without full error correction. In real-world quantum systems, such methods are often combined with more advanced techniques are often used for quantum error correction. For example this is result of just using 3 trails for majority voting, see how each individual message makes no sense but after majority voting correct message is delivered:\n",
    "<br>\n",
    "DivyanrH\n",
    "<br>\n",
    "Divxansè\n",
    "<br>\n",
    "Ti@yan3h\n",
    "<br>\n",
    "After error mitigation: Divyansh"
   ]
  }
 ],
 "metadata": {
  "anaconda-cloud": {},
  "celltoolbar": "Tags",
  "kernelspec": {
   "display_name": "qiskit",
   "language": "python",
   "name": "python3"
  },
  "language_info": {
   "codemirror_mode": {
    "name": "ipython",
    "version": 3
   },
   "file_extension": ".py",
   "mimetype": "text/x-python",
   "name": "python",
   "nbconvert_exporter": "python",
   "pygments_lexer": "ipython3",
   "version": "3.13.5"
  },
  "varInspector": {
   "cols": {
    "lenName": 16,
    "lenType": 16,
    "lenVar": 40
   },
   "kernels_config": {
    "python": {
     "delete_cmd_postfix": "",
     "delete_cmd_prefix": "del ",
     "library": "var_list.py",
     "varRefreshCmd": "print(var_dic_list())"
    },
    "r": {
     "delete_cmd_postfix": ") ",
     "delete_cmd_prefix": "rm(",
     "library": "var_list.r",
     "varRefreshCmd": "cat(var_dic_list()) "
    }
   },
   "types_to_exclude": [
    "module",
    "function",
    "builtin_function_or_method",
    "instance",
    "_Feature"
   ],
   "window_display": false
  }
 },
 "nbformat": 4,
 "nbformat_minor": 4
}
